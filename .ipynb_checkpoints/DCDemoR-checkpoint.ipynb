{
 "cells": [
  {
   "cell_type": "code",
   "execution_count": 1,
   "id": "22b1320f",
   "metadata": {},
   "outputs": [
    {
     "data": {
      "text/html": [
       "'C:/Users/IV/Desktop/UniPG/distinctiveness-R'"
      ],
      "text/latex": [
       "'C:/Users/IV/Desktop/UniPG/distinctiveness-R'"
      ],
      "text/markdown": [
       "'C:/Users/IV/Desktop/UniPG/distinctiveness-R'"
      ],
      "text/plain": [
       "[1] \"C:/Users/IV/Desktop/UniPG/distinctiveness-R\""
      ]
     },
     "metadata": {},
     "output_type": "display_data"
    },
    {
     "name": "stderr",
     "output_type": "stream",
     "text": [
      "Loading required package: igraph\n",
      "Warning message:\n",
      "\"package 'igraph' was built under R version 3.6.3\"\n",
      "Attaching package: 'igraph'\n",
      "\n",
      "The following objects are masked from 'package:stats':\n",
      "\n",
      "    decompose, spectrum\n",
      "\n",
      "The following object is masked from 'package:base':\n",
      "\n",
      "    union\n",
      "\n"
     ]
    }
   ],
   "source": [
    "# Import distinctiveness-R\n",
    "getwd()\n",
    "if(!require('igraph')) {\n",
    "    install.packages('igraph')\n",
    "    library('igraph')\n",
    "}\n",
    "# if(!require('plyr'))\n",
    "# install.packages('plyr')\n",
    "# library('plyr')\n",
    "source(\"distinctiveness/dc.R\")"
   ]
  },
  {
   "cell_type": "markdown",
   "id": "fceef5b3",
   "metadata": {},
   "source": [
    "Undirected Graphs"
   ]
  },
  {
   "cell_type": "code",
   "execution_count": 2,
   "id": "850ae847",
   "metadata": {},
   "outputs": [
    {
     "data": {
      "image/png": "[encoded data removed]",
      "text/plain": [
       "Plot with title \"\""
      ]
     },
     "metadata": {},
     "output_type": "display_data"
    }
   ],
   "source": [
    "g <- make_empty_graph(directed = FALSE) %>%\n",
    "  add_vertices(1, name = \"A\") %>%\n",
    "  add_vertices(1, name = \"B\") %>%\n",
    "  add_vertices(1, name = \"C\") %>%\n",
    "  add_vertices(1, name = \"D\") %>%\n",
    "  add_vertices(1, name = \"E\") %>%\n",
    "  add_vertices(1, name = \"F\")\n",
    "g <- g + edge(1, 5, weight = 5) + edge(1, 2, weight = 2) + \n",
    "     edge(2, 6, weight = 5) + edge(2, 3, weight = 2) + \n",
    "     edge(2, 4, weight = 2) + edge(3, 4, weight = 5)\n",
    "plot(g, edge.width = E(g)$weight)"
   ]
  },
  {
   "cell_type": "code",
   "execution_count": 3,
   "id": "49a316c6",
   "metadata": {},
   "outputs": [
    {
     "data": {
      "text/html": [
       "<table>\n",
       "<thead><tr><th scope=col>Node</th><th scope=col>D1</th><th scope=col>D2</th><th scope=col>D3</th><th scope=col>D4</th><th scope=col>D5</th></tr></thead>\n",
       "<tbody>\n",
       "\t<tr><td>A        </td><td>3.6886700</td><td>3.6886700</td><td>3.6886700</td><td>3.6886700</td><td>3.6886700</td></tr>\n",
       "\t<tr><td>B        </td><td>5.8824901</td><td>5.8824901</td><td>5.8824901</td><td>5.8824901</td><td>5.8824901</td></tr>\n",
       "\t<tr><td>C        </td><td>2.1835201</td><td>2.1835201</td><td>2.1835201</td><td>2.1835201</td><td>2.1835201</td></tr>\n",
       "\t<tr><td>D        </td><td>2.1835201</td><td>2.1835201</td><td>2.1835201</td><td>2.1835201</td><td>2.1835201</td></tr>\n",
       "\t<tr><td>E        </td><td>1.9897000</td><td>1.9897000</td><td>1.9897000</td><td>1.9897000</td><td>1.9897000</td></tr>\n",
       "\t<tr><td>F        </td><td>0.4845501</td><td>0.4845501</td><td>0.4845501</td><td>0.4845501</td><td>0.4845501</td></tr>\n",
       "</tbody>\n",
       "</table>\n"
      ],
      "text/latex": [
       "\\begin{tabular}{r|llllll}\n",
       " Node & D1 & D2 & D3 & D4 & D5\\\\\n",
       "\\hline\n",
       "\t A         & 3.6886700 & 3.6886700 & 3.6886700 & 3.6886700 & 3.6886700\\\\\n",
       "\t B         & 5.8824901 & 5.8824901 & 5.8824901 & 5.8824901 & 5.8824901\\\\\n",
       "\t C         & 2.1835201 & 2.1835201 & 2.1835201 & 2.1835201 & 2.1835201\\\\\n",
       "\t D         & 2.1835201 & 2.1835201 & 2.1835201 & 2.1835201 & 2.1835201\\\\\n",
       "\t E         & 1.9897000 & 1.9897000 & 1.9897000 & 1.9897000 & 1.9897000\\\\\n",
       "\t F         & 0.4845501 & 0.4845501 & 0.4845501 & 0.4845501 & 0.4845501\\\\\n",
       "\\end{tabular}\n"
      ],
      "text/markdown": [
       "\n",
       "| Node | D1 | D2 | D3 | D4 | D5 |\n",
       "|---|---|---|---|---|---|\n",
       "| A         | 3.6886700 | 3.6886700 | 3.6886700 | 3.6886700 | 3.6886700 |\n",
       "| B         | 5.8824901 | 5.8824901 | 5.8824901 | 5.8824901 | 5.8824901 |\n",
       "| C         | 2.1835201 | 2.1835201 | 2.1835201 | 2.1835201 | 2.1835201 |\n",
       "| D         | 2.1835201 | 2.1835201 | 2.1835201 | 2.1835201 | 2.1835201 |\n",
       "| E         | 1.9897000 | 1.9897000 | 1.9897000 | 1.9897000 | 1.9897000 |\n",
       "| F         | 0.4845501 | 0.4845501 | 0.4845501 | 0.4845501 | 0.4845501 |\n",
       "\n"
      ],
      "text/plain": [
       "  Node D1        D2        D3        D4        D5       \n",
       "1 A    3.6886700 3.6886700 3.6886700 3.6886700 3.6886700\n",
       "2 B    5.8824901 5.8824901 5.8824901 5.8824901 5.8824901\n",
       "3 C    2.1835201 2.1835201 2.1835201 2.1835201 2.1835201\n",
       "4 D    2.1835201 2.1835201 2.1835201 2.1835201 2.1835201\n",
       "5 E    1.9897000 1.9897000 1.9897000 1.9897000 1.9897000\n",
       "6 F    0.4845501 0.4845501 0.4845501 0.4845501 0.4845501"
      ]
     },
     "metadata": {},
     "output_type": "display_data"
    }
   ],
   "source": [
    "d = distinctiveness(g, normalize = FALSE)\n",
    "d"
   ]
  },
  {
   "cell_type": "code",
   "execution_count": 4,
   "id": "c943464d",
   "metadata": {},
   "outputs": [
    {
     "data": {
      "text/html": [
       "<table>\n",
       "<thead><tr><th scope=col>Node</th><th scope=col>D1</th><th scope=col>D2</th><th scope=col>D3</th><th scope=col>D4</th><th scope=col>D5</th></tr></thead>\n",
       "<tbody>\n",
       "\t<tr><td>A         </td><td> 2.4845501</td><td> 2.4845501</td><td> 2.4845501</td><td> 2.4845501</td><td> 2.4845501</td></tr>\n",
       "\t<tr><td>B         </td><td> 4.0763101</td><td> 4.0763101</td><td> 4.0763101</td><td> 4.0763101</td><td> 4.0763101</td></tr>\n",
       "\t<tr><td>C         </td><td>-0.5257499</td><td>-0.5257499</td><td>-0.5257499</td><td>-0.5257499</td><td>-0.5257499</td></tr>\n",
       "\t<tr><td>D         </td><td>-0.5257499</td><td>-0.5257499</td><td>-0.5257499</td><td>-0.5257499</td><td>-0.5257499</td></tr>\n",
       "\t<tr><td>E         </td><td> 0.4845501</td><td> 0.4845501</td><td> 0.4845501</td><td> 0.4845501</td><td> 0.4845501</td></tr>\n",
       "\t<tr><td>F         </td><td>-2.5257499</td><td>-2.5257499</td><td>-2.5257499</td><td>-2.5257499</td><td>-2.5257499</td></tr>\n",
       "</tbody>\n",
       "</table>\n"
      ],
      "text/latex": [
       "\\begin{tabular}{r|llllll}\n",
       " Node & D1 & D2 & D3 & D4 & D5\\\\\n",
       "\\hline\n",
       "\t A          &  2.4845501 &  2.4845501 &  2.4845501 &  2.4845501 &  2.4845501\\\\\n",
       "\t B          &  4.0763101 &  4.0763101 &  4.0763101 &  4.0763101 &  4.0763101\\\\\n",
       "\t C          & -0.5257499 & -0.5257499 & -0.5257499 & -0.5257499 & -0.5257499\\\\\n",
       "\t D          & -0.5257499 & -0.5257499 & -0.5257499 & -0.5257499 & -0.5257499\\\\\n",
       "\t E          &  0.4845501 &  0.4845501 &  0.4845501 &  0.4845501 &  0.4845501\\\\\n",
       "\t F          & -2.5257499 & -2.5257499 & -2.5257499 & -2.5257499 & -2.5257499\\\\\n",
       "\\end{tabular}\n"
      ],
      "text/markdown": [
       "\n",
       "| Node | D1 | D2 | D3 | D4 | D5 |\n",
       "|---|---|---|---|---|---|\n",
       "| A          |  2.4845501 |  2.4845501 |  2.4845501 |  2.4845501 |  2.4845501 |\n",
       "| B          |  4.0763101 |  4.0763101 |  4.0763101 |  4.0763101 |  4.0763101 |\n",
       "| C          | -0.5257499 | -0.5257499 | -0.5257499 | -0.5257499 | -0.5257499 |\n",
       "| D          | -0.5257499 | -0.5257499 | -0.5257499 | -0.5257499 | -0.5257499 |\n",
       "| E          |  0.4845501 |  0.4845501 |  0.4845501 |  0.4845501 |  0.4845501 |\n",
       "| F          | -2.5257499 | -2.5257499 | -2.5257499 | -2.5257499 | -2.5257499 |\n",
       "\n"
      ],
      "text/plain": [
       "  Node D1         D2         D3         D4         D5        \n",
       "1 A     2.4845501  2.4845501  2.4845501  2.4845501  2.4845501\n",
       "2 B     4.0763101  4.0763101  4.0763101  4.0763101  4.0763101\n",
       "3 C    -0.5257499 -0.5257499 -0.5257499 -0.5257499 -0.5257499\n",
       "4 D    -0.5257499 -0.5257499 -0.5257499 -0.5257499 -0.5257499\n",
       "5 E     0.4845501  0.4845501  0.4845501  0.4845501  0.4845501\n",
       "6 F    -2.5257499 -2.5257499 -2.5257499 -2.5257499 -2.5257499"
      ]
     },
     "metadata": {},
     "output_type": "display_data"
    }
   ],
   "source": [
    "distinctiveness(g, alpha = 2)"
   ]
  },
  {
   "cell_type": "code",
   "execution_count": 5,
   "id": "20b2e0ea",
   "metadata": {},
   "outputs": [
    {
     "data": {
      "text/html": [
       "<table>\n",
       "<thead><tr><th scope=col>Node</th><th scope=col>D1</th><th scope=col>D2</th><th scope=col>D3</th><th scope=col>D4</th><th scope=col>D5</th></tr></thead>\n",
       "<tbody>\n",
       "\t<tr><td>A        </td><td>3.6886700</td><td>3.6886700</td><td>3.6886700</td><td>3.6886700</td><td>3.6886700</td></tr>\n",
       "\t<tr><td>B        </td><td>5.8824901</td><td>5.8824901</td><td>5.8824901</td><td>5.8824901</td><td>5.8824901</td></tr>\n",
       "\t<tr><td>C        </td><td>2.1835201</td><td>2.1835201</td><td>2.1835201</td><td>2.1835201</td><td>2.1835201</td></tr>\n",
       "\t<tr><td>D        </td><td>2.1835201</td><td>2.1835201</td><td>2.1835201</td><td>2.1835201</td><td>2.1835201</td></tr>\n",
       "\t<tr><td>E        </td><td>1.9897000</td><td>1.9897000</td><td>1.9897000</td><td>1.9897000</td><td>1.9897000</td></tr>\n",
       "\t<tr><td>F        </td><td>0.4845501</td><td>0.4845501</td><td>0.4845501</td><td>0.4845501</td><td>0.4845501</td></tr>\n",
       "</tbody>\n",
       "</table>\n"
      ],
      "text/latex": [
       "\\begin{tabular}{r|llllll}\n",
       " Node & D1 & D2 & D3 & D4 & D5\\\\\n",
       "\\hline\n",
       "\t A         & 3.6886700 & 3.6886700 & 3.6886700 & 3.6886700 & 3.6886700\\\\\n",
       "\t B         & 5.8824901 & 5.8824901 & 5.8824901 & 5.8824901 & 5.8824901\\\\\n",
       "\t C         & 2.1835201 & 2.1835201 & 2.1835201 & 2.1835201 & 2.1835201\\\\\n",
       "\t D         & 2.1835201 & 2.1835201 & 2.1835201 & 2.1835201 & 2.1835201\\\\\n",
       "\t E         & 1.9897000 & 1.9897000 & 1.9897000 & 1.9897000 & 1.9897000\\\\\n",
       "\t F         & 0.4845501 & 0.4845501 & 0.4845501 & 0.4845501 & 0.4845501\\\\\n",
       "\\end{tabular}\n"
      ],
      "text/markdown": [
       "\n",
       "| Node | D1 | D2 | D3 | D4 | D5 |\n",
       "|---|---|---|---|---|---|\n",
       "| A         | 3.6886700 | 3.6886700 | 3.6886700 | 3.6886700 | 3.6886700 |\n",
       "| B         | 5.8824901 | 5.8824901 | 5.8824901 | 5.8824901 | 5.8824901 |\n",
       "| C         | 2.1835201 | 2.1835201 | 2.1835201 | 2.1835201 | 2.1835201 |\n",
       "| D         | 2.1835201 | 2.1835201 | 2.1835201 | 2.1835201 | 2.1835201 |\n",
       "| E         | 1.9897000 | 1.9897000 | 1.9897000 | 1.9897000 | 1.9897000 |\n",
       "| F         | 0.4845501 | 0.4845501 | 0.4845501 | 0.4845501 | 0.4845501 |\n",
       "\n"
      ],
      "text/plain": [
       "  Node D1        D2        D3        D4        D5       \n",
       "1 A    3.6886700 3.6886700 3.6886700 3.6886700 3.6886700\n",
       "2 B    5.8824901 5.8824901 5.8824901 5.8824901 5.8824901\n",
       "3 C    2.1835201 2.1835201 2.1835201 2.1835201 2.1835201\n",
       "4 D    2.1835201 2.1835201 2.1835201 2.1835201 2.1835201\n",
       "5 E    1.9897000 1.9897000 1.9897000 1.9897000 1.9897000\n",
       "6 F    0.4845501 0.4845501 0.4845501 0.4845501 0.4845501"
      ]
     },
     "metadata": {},
     "output_type": "display_data"
    }
   ],
   "source": [
    "distinctiveness(g, alpha = list(1, 2, 3, 4, 5))"
   ]
  },
  {
   "cell_type": "code",
   "execution_count": 6,
   "id": "e9eeb058",
   "metadata": {},
   "outputs": [
    {
     "data": {
      "text/html": [
       "<table>\n",
       "<thead><tr><th scope=col>Node</th><th scope=col>D1</th></tr></thead>\n",
       "<tbody>\n",
       "\t<tr><td>A        </td><td>0.5710918</td></tr>\n",
       "\t<tr><td>B        </td><td>0.6166376</td></tr>\n",
       "\t<tr><td>C        </td><td>0.4849564</td></tr>\n",
       "\t<tr><td>D        </td><td>0.4849564</td></tr>\n",
       "\t<tr><td>E        </td><td>0.5138647</td></tr>\n",
       "\t<tr><td>F        </td><td>0.4277294</td></tr>\n",
       "</tbody>\n",
       "</table>\n"
      ],
      "text/latex": [
       "\\begin{tabular}{r|ll}\n",
       " Node & D1\\\\\n",
       "\\hline\n",
       "\t A         & 0.5710918\\\\\n",
       "\t B         & 0.6166376\\\\\n",
       "\t C         & 0.4849564\\\\\n",
       "\t D         & 0.4849564\\\\\n",
       "\t E         & 0.5138647\\\\\n",
       "\t F         & 0.4277294\\\\\n",
       "\\end{tabular}\n"
      ],
      "text/markdown": [
       "\n",
       "| Node | D1 |\n",
       "|---|---|\n",
       "| A         | 0.5710918 |\n",
       "| B         | 0.6166376 |\n",
       "| C         | 0.4849564 |\n",
       "| D         | 0.4849564 |\n",
       "| E         | 0.5138647 |\n",
       "| F         | 0.4277294 |\n",
       "\n"
      ],
      "text/plain": [
       "  Node D1       \n",
       "1 A    0.5710918\n",
       "2 B    0.6166376\n",
       "3 C    0.4849564\n",
       "4 D    0.4849564\n",
       "5 E    0.5138647\n",
       "6 F    0.4277294"
      ]
     },
     "metadata": {},
     "output_type": "display_data"
    }
   ],
   "source": [
    "d = distinctiveness(g, alpha = 2, measures = c(\"D1\"), normalize = TRUE)\n",
    "d"
   ]
  },
  {
   "cell_type": "markdown",
   "id": "5111e4b7",
   "metadata": {},
   "source": [
    "Directed Graphs"
   ]
  },
  {
   "cell_type": "code",
   "execution_count": 7,
   "id": "d28298cb",
   "metadata": {},
   "outputs": [
    {
     "data": {
      "image/png": "[encoded data removed]",
      "text/plain": [
       "Plot with title \"\""
      ]
     },
     "metadata": {},
     "output_type": "display_data"
    }
   ],
   "source": [
    "g_dir <- make_empty_graph(directed = TRUE) %>%\n",
    "  add_vertices(1, name = \"A\") %>%\n",
    "  add_vertices(1, name = \"B\") %>%\n",
    "  add_vertices(1, name = \"C\") %>%\n",
    "  add_vertices(1, name = \"D\") %>%\n",
    "  add_vertices(1, name = \"E\") %>%\n",
    "  add_vertices(1, name = \"F\")\n",
    "g_dir <- g_dir + edge(1, 5, weight = 5) + edge(1, 2, weight = 6) +\n",
    "  edge(2, 1, weight = 2) + edge(2, 6, weight = 5) + edge(2, 3, weight = 2) +\n",
    "  edge(2, 4, weight = 2) + edge(3, 4, weight = 3) + edge(4, 3, weight = 5)\n",
    "plot(g_dir, edge.width = E(g_dir)$weight)"
   ]
  },
  {
   "cell_type": "code",
   "execution_count": 8,
   "id": "5f382d30",
   "metadata": {
    "scrolled": true
   },
   "outputs": [
    {
     "data": {
      "text/html": [
       "<table>\n",
       "<thead><tr><th scope=col>Node</th><th scope=col>D1_IN</th><th scope=col>D1_OUT</th><th scope=col>D2_IN</th><th scope=col>D2_OUT</th><th scope=col>D3_IN</th><th scope=col>D3_OUT</th><th scope=col>D4_IN</th><th scope=col>D4_OUT</th><th scope=col>D5_IN</th><th scope=col>D5_OUT</th></tr></thead>\n",
       "<tbody>\n",
       "\t<tr><td>A          </td><td>-1.0103000 </td><td>7.6886700  </td><td>-0.50514998</td><td>1.39794001 </td><td>-0.1087153 </td><td>16.248334  </td><td>0.2162162  </td><td>11.000000  </td><td>0.0625     </td><td>2.00       </td></tr>\n",
       "\t<tr><td>B          </td><td> 0.5814601 </td><td>5.2804301  </td><td> 0.09691001</td><td>1.59176003 </td><td> 0.3728874 </td><td>11.418387  </td><td>3.5409836  </td><td> 7.891247  </td><td>0.2500     </td><td>2.50       </td></tr>\n",
       "\t<tr><td>C          </td><td> 2.4845501 </td><td>0.2907300  </td><td> 0.19382003</td><td>0.09691001 </td><td> 7.2768909 </td><td> 2.334454  </td><td>5.2162162  </td><td> 2.076923  </td><td>1.0625     </td><td>0.25       </td></tr>\n",
       "\t<tr><td>D          </td><td> 1.0866101 </td><td>0.4845501  </td><td> 0.19382003</td><td>0.09691001 </td><td> 4.3226484 </td><td> 3.890756  </td><td>3.2162162  </td><td> 4.310345  </td><td>1.0625     </td><td>0.25       </td></tr>\n",
       "\t<tr><td>E          </td><td> 0.4845501 </td><td>0.0000000  </td><td> 0.09691001</td><td>0.00000000 </td><td>-0.4554023 </td><td> 0.000000  </td><td>2.0491803  </td><td> 0.000000  </td><td>0.2500     </td><td>0.00       </td></tr>\n",
       "\t<tr><td>F          </td><td>-2.5257499 </td><td>0.0000000  </td><td>-0.50514998</td><td>0.00000000 </td><td> 1.8158895 </td><td> 0.000000  </td><td>3.3783784  </td><td> 0.000000  </td><td>0.0625     </td><td>0.00       </td></tr>\n",
       "</tbody>\n",
       "</table>\n"
      ],
      "text/latex": [
       "\\begin{tabular}{r|lllllllllll}\n",
       " Node & D1\\_IN & D1\\_OUT & D2\\_IN & D2\\_OUT & D3\\_IN & D3\\_OUT & D4\\_IN & D4\\_OUT & D5\\_IN & D5\\_OUT\\\\\n",
       "\\hline\n",
       "\t A           & -1.0103000  & 7.6886700   & -0.50514998 & 1.39794001  & -0.1087153  & 16.248334   & 0.2162162   & 11.000000   & 0.0625      & 2.00       \\\\\n",
       "\t B           &  0.5814601  & 5.2804301   &  0.09691001 & 1.59176003  &  0.3728874  & 11.418387   & 3.5409836   &  7.891247   & 0.2500      & 2.50       \\\\\n",
       "\t C           &  2.4845501  & 0.2907300   &  0.19382003 & 0.09691001  &  7.2768909  &  2.334454   & 5.2162162   &  2.076923   & 1.0625      & 0.25       \\\\\n",
       "\t D           &  1.0866101  & 0.4845501   &  0.19382003 & 0.09691001  &  4.3226484  &  3.890756   & 3.2162162   &  4.310345   & 1.0625      & 0.25       \\\\\n",
       "\t E           &  0.4845501  & 0.0000000   &  0.09691001 & 0.00000000  & -0.4554023  &  0.000000   & 2.0491803   &  0.000000   & 0.2500      & 0.00       \\\\\n",
       "\t F           & -2.5257499  & 0.0000000   & -0.50514998 & 0.00000000  &  1.8158895  &  0.000000   & 3.3783784   &  0.000000   & 0.0625      & 0.00       \\\\\n",
       "\\end{tabular}\n"
      ],
      "text/markdown": [
       "\n",
       "| Node | D1_IN | D1_OUT | D2_IN | D2_OUT | D3_IN | D3_OUT | D4_IN | D4_OUT | D5_IN | D5_OUT |\n",
       "|---|---|---|---|---|---|---|---|---|---|---|\n",
       "| A           | -1.0103000  | 7.6886700   | -0.50514998 | 1.39794001  | -0.1087153  | 16.248334   | 0.2162162   | 11.000000   | 0.0625      | 2.00        |\n",
       "| B           |  0.5814601  | 5.2804301   |  0.09691001 | 1.59176003  |  0.3728874  | 11.418387   | 3.5409836   |  7.891247   | 0.2500      | 2.50        |\n",
       "| C           |  2.4845501  | 0.2907300   |  0.19382003 | 0.09691001  |  7.2768909  |  2.334454   | 5.2162162   |  2.076923   | 1.0625      | 0.25        |\n",
       "| D           |  1.0866101  | 0.4845501   |  0.19382003 | 0.09691001  |  4.3226484  |  3.890756   | 3.2162162   |  4.310345   | 1.0625      | 0.25        |\n",
       "| E           |  0.4845501  | 0.0000000   |  0.09691001 | 0.00000000  | -0.4554023  |  0.000000   | 2.0491803   |  0.000000   | 0.2500      | 0.00        |\n",
       "| F           | -2.5257499  | 0.0000000   | -0.50514998 | 0.00000000  |  1.8158895  |  0.000000   | 3.3783784   |  0.000000   | 0.0625      | 0.00        |\n",
       "\n"
      ],
      "text/plain": [
       "  Node D1_IN      D1_OUT    D2_IN       D2_OUT     D3_IN      D3_OUT   \n",
       "1 A    -1.0103000 7.6886700 -0.50514998 1.39794001 -0.1087153 16.248334\n",
       "2 B     0.5814601 5.2804301  0.09691001 1.59176003  0.3728874 11.418387\n",
       "3 C     2.4845501 0.2907300  0.19382003 0.09691001  7.2768909  2.334454\n",
       "4 D     1.0866101 0.4845501  0.19382003 0.09691001  4.3226484  3.890756\n",
       "5 E     0.4845501 0.0000000  0.09691001 0.00000000 -0.4554023  0.000000\n",
       "6 F    -2.5257499 0.0000000 -0.50514998 0.00000000  1.8158895  0.000000\n",
       "  D4_IN     D4_OUT    D5_IN  D5_OUT\n",
       "1 0.2162162 11.000000 0.0625 2.00  \n",
       "2 3.5409836  7.891247 0.2500 2.50  \n",
       "3 5.2162162  2.076923 1.0625 0.25  \n",
       "4 3.2162162  4.310345 1.0625 0.25  \n",
       "5 2.0491803  0.000000 0.2500 0.00  \n",
       "6 3.3783784  0.000000 0.0625 0.00  "
      ]
     },
     "metadata": {},
     "output_type": "display_data"
    }
   ],
   "source": [
    "dc = distinctiveness(g_dir, alpha = 2, normalize = FALSE)\n",
    "dc"
   ]
  }
 ],
 "metadata": {
  "kernelspec": {
   "display_name": "R",
   "language": "R",
   "name": "ir"
  },
  "language_info": {
   "codemirror_mode": "r",
   "file_extension": ".r",
   "mimetype": "text/x-r-source",
   "name": "R",
   "pygments_lexer": "r",
   "version": "3.6.1"
  }
 },
 "nbformat": 4,
 "nbformat_minor": 5
}
