{
 "cells": [
  {
   "cell_type": "code",
   "execution_count": 2,
   "id": "22b1320f",
   "metadata": {},
   "outputs": [],
   "source": [
    "# Import distinctiveness-R\n",
    "if(!require('igraph')) {\n",
    "    install.packages('igraph')\n",
    "    library('igraph')\n",
    "}\n",
    "source(\"distinctiveness/dc.R\")"
   ]
  },
  {
   "cell_type": "markdown",
   "id": "fceef5b3",
   "metadata": {},
   "source": [
    "# Undirected Graphs"
   ]
  },
  {
   "cell_type": "code",
   "execution_count": 3,
   "id": "850ae847",
   "metadata": {},
   "outputs": [
    {
     "data": {
      "image/png": "[encoded data removed]",
      "text/plain": [
       "Plot with title \"\""
      ]
     },
     "metadata": {},
     "output_type": "display_data"
    }
   ],
   "source": [
    "g <- make_empty_graph(directed = FALSE) %>%\n",
    "  add_vertices(1, name = \"A\") %>%\n",
    "  add_vertices(1, name = \"B\") %>%\n",
    "  add_vertices(1, name = \"C\") %>%\n",
    "  add_vertices(1, name = \"D\") %>%\n",
    "  add_vertices(1, name = \"E\") %>%\n",
    "  add_vertices(1, name = \"F\")\n",
    "g <- g + edge(1, 5, weight = 5) + edge(1, 2, weight = 2) + \n",
    "     edge(2, 6, weight = 5) + edge(2, 3, weight = 2) + \n",
    "     edge(2, 4, weight = 2) + edge(3, 4, weight = 5)\n",
    "plot(g, edge.width = E(g)$weight)"
   ]
  },
  {
   "cell_type": "code",
   "execution_count": 10,
   "id": "49a316c6",
   "metadata": {},
   "outputs": [
    {
     "data": {
      "text/html": [
       "<table>\n",
       "<thead><tr><th scope=col>Node</th><th scope=col>D1</th><th scope=col>D2</th><th scope=col>D3</th><th scope=col>D4</th><th scope=col>D5</th></tr></thead>\n",
       "<tbody>\n",
       "\t<tr><td>A         </td><td>3.6886700 </td><td>0.79588002</td><td>7.255535  </td><td>5.363636  </td><td>1.25      </td></tr>\n",
       "\t<tr><td>B         </td><td>5.8824901 </td><td>1.89279003</td><td>9.875505  </td><td>6.714286  </td><td>2.50      </td></tr>\n",
       "\t<tr><td>C         </td><td>2.1835201 </td><td>0.49485002</td><td>4.869929  </td><td>3.935065  </td><td>0.75      </td></tr>\n",
       "\t<tr><td>D         </td><td>2.1835201 </td><td>0.49485002</td><td>4.869929  </td><td>3.935065  </td><td>0.75      </td></tr>\n",
       "\t<tr><td>E         </td><td>1.9897000 </td><td>0.39794001</td><td>4.225490  </td><td>3.571429  </td><td>0.50      </td></tr>\n",
       "\t<tr><td>F         </td><td>0.4845501 </td><td>0.09691001</td><td>2.385606  </td><td>2.272727  </td><td>0.25      </td></tr>\n",
       "</tbody>\n",
       "</table>\n"
      ],
      "text/latex": [
       "\\begin{tabular}{r|llllll}\n",
       " Node & D1 & D2 & D3 & D4 & D5\\\\\n",
       "\\hline\n",
       "\t A          & 3.6886700  & 0.79588002 & 7.255535   & 5.363636   & 1.25      \\\\\n",
       "\t B          & 5.8824901  & 1.89279003 & 9.875505   & 6.714286   & 2.50      \\\\\n",
       "\t C          & 2.1835201  & 0.49485002 & 4.869929   & 3.935065   & 0.75      \\\\\n",
       "\t D          & 2.1835201  & 0.49485002 & 4.869929   & 3.935065   & 0.75      \\\\\n",
       "\t E          & 1.9897000  & 0.39794001 & 4.225490   & 3.571429   & 0.50      \\\\\n",
       "\t F          & 0.4845501  & 0.09691001 & 2.385606   & 2.272727   & 0.25      \\\\\n",
       "\\end{tabular}\n"
      ],
      "text/markdown": [
       "\n",
       "| Node | D1 | D2 | D3 | D4 | D5 |\n",
       "|---|---|---|---|---|---|\n",
       "| A          | 3.6886700  | 0.79588002 | 7.255535   | 5.363636   | 1.25       |\n",
       "| B          | 5.8824901  | 1.89279003 | 9.875505   | 6.714286   | 2.50       |\n",
       "| C          | 2.1835201  | 0.49485002 | 4.869929   | 3.935065   | 0.75       |\n",
       "| D          | 2.1835201  | 0.49485002 | 4.869929   | 3.935065   | 0.75       |\n",
       "| E          | 1.9897000  | 0.39794001 | 4.225490   | 3.571429   | 0.50       |\n",
       "| F          | 0.4845501  | 0.09691001 | 2.385606   | 2.272727   | 0.25       |\n",
       "\n"
      ],
      "text/plain": [
       "  Node D1        D2         D3       D4       D5  \n",
       "1 A    3.6886700 0.79588002 7.255535 5.363636 1.25\n",
       "2 B    5.8824901 1.89279003 9.875505 6.714286 2.50\n",
       "3 C    2.1835201 0.49485002 4.869929 3.935065 0.75\n",
       "4 D    2.1835201 0.49485002 4.869929 3.935065 0.75\n",
       "5 E    1.9897000 0.39794001 4.225490 3.571429 0.50\n",
       "6 F    0.4845501 0.09691001 2.385606 2.272727 0.25"
      ]
     },
     "metadata": {},
     "output_type": "display_data"
    }
   ],
   "source": [
    "# Calculate the 5 metrics of Distinctiveness Centrality\n",
    "\n",
    "distinctiveness(g)"
   ]
  },
  {
   "cell_type": "code",
   "execution_count": 11,
   "id": "7e598148",
   "metadata": {},
   "outputs": [
    {
     "data": {
      "text/html": [
       "<table>\n",
       "<thead><tr><th scope=col>Node</th><th scope=col>D1</th><th scope=col>D3</th><th scope=col>D4</th></tr></thead>\n",
       "<tbody>\n",
       "\t<tr><td>A        </td><td>3.6886700</td><td>7.255535 </td><td>5.363636 </td></tr>\n",
       "\t<tr><td>B        </td><td>5.8824901</td><td>9.875505 </td><td>6.714286 </td></tr>\n",
       "\t<tr><td>C        </td><td>2.1835201</td><td>4.869929 </td><td>3.935065 </td></tr>\n",
       "\t<tr><td>D        </td><td>2.1835201</td><td>4.869929 </td><td>3.935065 </td></tr>\n",
       "\t<tr><td>E        </td><td>1.9897000</td><td>4.225490 </td><td>3.571429 </td></tr>\n",
       "\t<tr><td>F        </td><td>0.4845501</td><td>2.385606 </td><td>2.272727 </td></tr>\n",
       "</tbody>\n",
       "</table>\n"
      ],
      "text/latex": [
       "\\begin{tabular}{r|llll}\n",
       " Node & D1 & D3 & D4\\\\\n",
       "\\hline\n",
       "\t A         & 3.6886700 & 7.255535  & 5.363636 \\\\\n",
       "\t B         & 5.8824901 & 9.875505  & 6.714286 \\\\\n",
       "\t C         & 2.1835201 & 4.869929  & 3.935065 \\\\\n",
       "\t D         & 2.1835201 & 4.869929  & 3.935065 \\\\\n",
       "\t E         & 1.9897000 & 4.225490  & 3.571429 \\\\\n",
       "\t F         & 0.4845501 & 2.385606  & 2.272727 \\\\\n",
       "\\end{tabular}\n"
      ],
      "text/markdown": [
       "\n",
       "| Node | D1 | D3 | D4 |\n",
       "|---|---|---|---|\n",
       "| A         | 3.6886700 | 7.255535  | 5.363636  |\n",
       "| B         | 5.8824901 | 9.875505  | 6.714286  |\n",
       "| C         | 2.1835201 | 4.869929  | 3.935065  |\n",
       "| D         | 2.1835201 | 4.869929  | 3.935065  |\n",
       "| E         | 1.9897000 | 4.225490  | 3.571429  |\n",
       "| F         | 0.4845501 | 2.385606  | 2.272727  |\n",
       "\n"
      ],
      "text/plain": [
       "  Node D1        D3       D4      \n",
       "1 A    3.6886700 7.255535 5.363636\n",
       "2 B    5.8824901 9.875505 6.714286\n",
       "3 C    2.1835201 4.869929 3.935065\n",
       "4 D    2.1835201 4.869929 3.935065\n",
       "5 E    1.9897000 4.225490 3.571429\n",
       "6 F    0.4845501 2.385606 2.272727"
      ]
     },
     "metadata": {},
     "output_type": "display_data"
    }
   ],
   "source": [
    "# measures allows you to calculate only the metrics of Distinctiveness Centrality which you specify\n",
    "# measures defaults to c(\"D1\", \"D2\", \"D3\", \"D4\", \"D5\")\n",
    "\n",
    "distinctiveness(g, measures = c(\"D1\", \"D3\", \"D4\"))"
   ]
  },
  {
   "cell_type": "code",
   "execution_count": 16,
   "id": "c943464d",
   "metadata": {},
   "outputs": [
    {
     "data": {
      "text/html": [
       "<table>\n",
       "<thead><tr><th scope=col>Node</th><th scope=col>D1</th><th scope=col>D2</th><th scope=col>D3</th><th scope=col>D4</th><th scope=col>D5</th></tr></thead>\n",
       "<tbody>\n",
       "\t<tr><td>A          </td><td> 2.4845501 </td><td> 0.19382003</td><td>6.192577   </td><td>5.216216   </td><td>1.0625     </td></tr>\n",
       "\t<tr><td>B          </td><td> 4.0763101 </td><td> 0.98970004</td><td>6.054572   </td><td>5.827586   </td><td>1.7500     </td></tr>\n",
       "\t<tr><td>C          </td><td>-0.5257499 </td><td>-0.40823997</td><td>2.697727   </td><td>4.526561   </td><td>0.3125     </td></tr>\n",
       "\t<tr><td>D          </td><td>-0.5257499 </td><td>-0.40823997</td><td>2.697727   </td><td>4.526561   </td><td>0.3125     </td></tr>\n",
       "\t<tr><td>E          </td><td> 0.4845501 </td><td> 0.09691001</td><td>3.116246   </td><td>4.310345   </td><td>0.2500     </td></tr>\n",
       "\t<tr><td>F          </td><td>-2.5257499 </td><td>-0.50514998</td><td>1.041380   </td><td>3.378378   </td><td>0.0625     </td></tr>\n",
       "</tbody>\n",
       "</table>\n"
      ],
      "text/latex": [
       "\\begin{tabular}{r|llllll}\n",
       " Node & D1 & D2 & D3 & D4 & D5\\\\\n",
       "\\hline\n",
       "\t A           &  2.4845501  &  0.19382003 & 6.192577    & 5.216216    & 1.0625     \\\\\n",
       "\t B           &  4.0763101  &  0.98970004 & 6.054572    & 5.827586    & 1.7500     \\\\\n",
       "\t C           & -0.5257499  & -0.40823997 & 2.697727    & 4.526561    & 0.3125     \\\\\n",
       "\t D           & -0.5257499  & -0.40823997 & 2.697727    & 4.526561    & 0.3125     \\\\\n",
       "\t E           &  0.4845501  &  0.09691001 & 3.116246    & 4.310345    & 0.2500     \\\\\n",
       "\t F           & -2.5257499  & -0.50514998 & 1.041380    & 3.378378    & 0.0625     \\\\\n",
       "\\end{tabular}\n"
      ],
      "text/markdown": [
       "\n",
       "| Node | D1 | D2 | D3 | D4 | D5 |\n",
       "|---|---|---|---|---|---|\n",
       "| A           |  2.4845501  |  0.19382003 | 6.192577    | 5.216216    | 1.0625      |\n",
       "| B           |  4.0763101  |  0.98970004 | 6.054572    | 5.827586    | 1.7500      |\n",
       "| C           | -0.5257499  | -0.40823997 | 2.697727    | 4.526561    | 0.3125      |\n",
       "| D           | -0.5257499  | -0.40823997 | 2.697727    | 4.526561    | 0.3125      |\n",
       "| E           |  0.4845501  |  0.09691001 | 3.116246    | 4.310345    | 0.2500      |\n",
       "| F           | -2.5257499  | -0.50514998 | 1.041380    | 3.378378    | 0.0625      |\n",
       "\n"
      ],
      "text/plain": [
       "  Node D1         D2          D3       D4       D5    \n",
       "1 A     2.4845501  0.19382003 6.192577 5.216216 1.0625\n",
       "2 B     4.0763101  0.98970004 6.054572 5.827586 1.7500\n",
       "3 C    -0.5257499 -0.40823997 2.697727 4.526561 0.3125\n",
       "4 D    -0.5257499 -0.40823997 2.697727 4.526561 0.3125\n",
       "5 E     0.4845501  0.09691001 3.116246 4.310345 0.2500\n",
       "6 F    -2.5257499 -0.50514998 1.041380 3.378378 0.0625"
      ]
     },
     "metadata": {},
     "output_type": "display_data"
    }
   ],
   "source": [
    "# alpha is a coefficient that can be increased to exponentially penalize vertices with more connections with high-degree nodes\n",
    "#\n",
    "# alpha defaults to 1\n",
    "\n",
    "distinctiveness(g, alpha = 2)"
   ]
  },
  {
   "cell_type": "code",
   "execution_count": 17,
   "id": "cbb4a2c8",
   "metadata": {},
   "outputs": [
    {
     "data": {
      "text/html": [
       "<table>\n",
       "<thead><tr><th scope=col>Node</th><th scope=col>D1</th><th scope=col>D2</th><th scope=col>D3</th><th scope=col>D4</th><th scope=col>D5</th></tr></thead>\n",
       "<tbody>\n",
       "\t<tr><td>A           </td><td>3.6886700   </td><td> 0.19382003 </td><td> 4.9509584  </td><td>5.047548    </td><td>1.0009765625</td></tr>\n",
       "\t<tr><td>B           </td><td>5.8824901   </td><td> 0.98970004 </td><td> 1.9421890  </td><td>5.149766    </td><td>1.0937500000</td></tr>\n",
       "\t<tr><td>C           </td><td>2.1835201   </td><td>-0.40823997 </td><td> 0.1797458  </td><td>4.922743    </td><td>0.0322265625</td></tr>\n",
       "\t<tr><td>D           </td><td>2.1835201   </td><td>-0.40823997 </td><td> 0.1797458  </td><td>4.922743    </td><td>0.0322265625</td></tr>\n",
       "\t<tr><td>E           </td><td>1.9897000   </td><td> 0.09691001 </td><td> 1.8398839  </td><td>4.875195    </td><td>0.0312500000</td></tr>\n",
       "\t<tr><td>F           </td><td>0.4845501   </td><td>-0.50514998 </td><td>-0.3786036  </td><td>4.643388    </td><td>0.0009765625</td></tr>\n",
       "</tbody>\n",
       "</table>\n"
      ],
      "text/latex": [
       "\\begin{tabular}{r|llllll}\n",
       " Node & D1 & D2 & D3 & D4 & D5\\\\\n",
       "\\hline\n",
       "\t A            & 3.6886700    &  0.19382003  &  4.9509584   & 5.047548     & 1.0009765625\\\\\n",
       "\t B            & 5.8824901    &  0.98970004  &  1.9421890   & 5.149766     & 1.0937500000\\\\\n",
       "\t C            & 2.1835201    & -0.40823997  &  0.1797458   & 4.922743     & 0.0322265625\\\\\n",
       "\t D            & 2.1835201    & -0.40823997  &  0.1797458   & 4.922743     & 0.0322265625\\\\\n",
       "\t E            & 1.9897000    &  0.09691001  &  1.8398839   & 4.875195     & 0.0312500000\\\\\n",
       "\t F            & 0.4845501    & -0.50514998  & -0.3786036   & 4.643388     & 0.0009765625\\\\\n",
       "\\end{tabular}\n"
      ],
      "text/markdown": [
       "\n",
       "| Node | D1 | D2 | D3 | D4 | D5 |\n",
       "|---|---|---|---|---|---|\n",
       "| A            | 3.6886700    |  0.19382003  |  4.9509584   | 5.047548     | 1.0009765625 |\n",
       "| B            | 5.8824901    |  0.98970004  |  1.9421890   | 5.149766     | 1.0937500000 |\n",
       "| C            | 2.1835201    | -0.40823997  |  0.1797458   | 4.922743     | 0.0322265625 |\n",
       "| D            | 2.1835201    | -0.40823997  |  0.1797458   | 4.922743     | 0.0322265625 |\n",
       "| E            | 1.9897000    |  0.09691001  |  1.8398839   | 4.875195     | 0.0312500000 |\n",
       "| F            | 0.4845501    | -0.50514998  | -0.3786036   | 4.643388     | 0.0009765625 |\n",
       "\n"
      ],
      "text/plain": [
       "  Node D1        D2          D3         D4       D5          \n",
       "1 A    3.6886700  0.19382003  4.9509584 5.047548 1.0009765625\n",
       "2 B    5.8824901  0.98970004  1.9421890 5.149766 1.0937500000\n",
       "3 C    2.1835201 -0.40823997  0.1797458 4.922743 0.0322265625\n",
       "4 D    2.1835201 -0.40823997  0.1797458 4.922743 0.0322265625\n",
       "5 E    1.9897000  0.09691001  1.8398839 4.875195 0.0312500000\n",
       "6 F    0.4845501 -0.50514998 -0.3786036 4.643388 0.0009765625"
      ]
     },
     "metadata": {},
     "output_type": "display_data"
    }
   ],
   "source": [
    "# alpha can be specified as a list, where the first element of the list is the alpha value used for D1, the second for D2, etc.\n",
    "\n",
    "distinctiveness(g, alpha = list(1, 2, 3, 4, 5))"
   ]
  },
  {
   "cell_type": "code",
   "execution_count": 21,
   "id": "9928c3a7",
   "metadata": {},
   "outputs": [
    {
     "data": {
      "text/html": [
       "<table>\n",
       "<thead><tr><th scope=col>Node</th><th scope=col>D1</th><th scope=col>D2</th><th scope=col>D3</th><th scope=col>D4</th><th scope=col>D5</th></tr></thead>\n",
       "<tbody>\n",
       "\t<tr><td>A         </td><td>0.21109175</td><td>0.22772938</td><td>0.15477969</td><td>0.21454545</td><td>0.25      </td></tr>\n",
       "\t<tr><td>B         </td><td>0.33663763</td><td>0.54159407</td><td>0.21067055</td><td>0.26857143</td><td>0.50      </td></tr>\n",
       "\t<tr><td>C         </td><td>0.12495644</td><td>0.14159407</td><td>0.10388842</td><td>0.15740260</td><td>0.15      </td></tr>\n",
       "\t<tr><td>D         </td><td>0.12495644</td><td>0.14159407</td><td>0.10388842</td><td>0.15740260</td><td>0.15      </td></tr>\n",
       "\t<tr><td>E         </td><td>0.11386469</td><td>0.11386469</td><td>0.09014085</td><td>0.14285714</td><td>0.10      </td></tr>\n",
       "\t<tr><td>F         </td><td>0.02772938</td><td>0.02772938</td><td>0.05089127</td><td>0.09090909</td><td>0.05      </td></tr>\n",
       "</tbody>\n",
       "</table>\n"
      ],
      "text/latex": [
       "\\begin{tabular}{r|llllll}\n",
       " Node & D1 & D2 & D3 & D4 & D5\\\\\n",
       "\\hline\n",
       "\t A          & 0.21109175 & 0.22772938 & 0.15477969 & 0.21454545 & 0.25      \\\\\n",
       "\t B          & 0.33663763 & 0.54159407 & 0.21067055 & 0.26857143 & 0.50      \\\\\n",
       "\t C          & 0.12495644 & 0.14159407 & 0.10388842 & 0.15740260 & 0.15      \\\\\n",
       "\t D          & 0.12495644 & 0.14159407 & 0.10388842 & 0.15740260 & 0.15      \\\\\n",
       "\t E          & 0.11386469 & 0.11386469 & 0.09014085 & 0.14285714 & 0.10      \\\\\n",
       "\t F          & 0.02772938 & 0.02772938 & 0.05089127 & 0.09090909 & 0.05      \\\\\n",
       "\\end{tabular}\n"
      ],
      "text/markdown": [
       "\n",
       "| Node | D1 | D2 | D3 | D4 | D5 |\n",
       "|---|---|---|---|---|---|\n",
       "| A          | 0.21109175 | 0.22772938 | 0.15477969 | 0.21454545 | 0.25       |\n",
       "| B          | 0.33663763 | 0.54159407 | 0.21067055 | 0.26857143 | 0.50       |\n",
       "| C          | 0.12495644 | 0.14159407 | 0.10388842 | 0.15740260 | 0.15       |\n",
       "| D          | 0.12495644 | 0.14159407 | 0.10388842 | 0.15740260 | 0.15       |\n",
       "| E          | 0.11386469 | 0.11386469 | 0.09014085 | 0.14285714 | 0.10       |\n",
       "| F          | 0.02772938 | 0.02772938 | 0.05089127 | 0.09090909 | 0.05       |\n",
       "\n"
      ],
      "text/plain": [
       "  Node D1         D2         D3         D4         D5  \n",
       "1 A    0.21109175 0.22772938 0.15477969 0.21454545 0.25\n",
       "2 B    0.33663763 0.54159407 0.21067055 0.26857143 0.50\n",
       "3 C    0.12495644 0.14159407 0.10388842 0.15740260 0.15\n",
       "4 D    0.12495644 0.14159407 0.10388842 0.15740260 0.15\n",
       "5 E    0.11386469 0.11386469 0.09014085 0.14285714 0.10\n",
       "6 F    0.02772938 0.02772938 0.05089127 0.09090909 0.05"
      ]
     },
     "metadata": {},
     "output_type": "display_data"
    }
   ],
   "source": [
    "# Metrics can be normalized using the 'normalize' input variable to allow comparison between different networks\n",
    "# normalize defaults to FALSE\n",
    "\n",
    "distinctiveness(g, normalize = TRUE)"
   ]
  },
  {
   "cell_type": "code",
   "execution_count": 13,
   "id": "20b2e0ea",
   "metadata": {},
   "outputs": [
    {
     "data": {
      "text/html": [
       "<table>\n",
       "<thead><tr><th scope=col>Node</th><th scope=col>D1</th><th scope=col>D2</th><th scope=col>D3</th><th scope=col>D4</th><th scope=col>D5</th></tr></thead>\n",
       "<tbody>\n",
       "\t<tr><td>A           </td><td>3.6886700   </td><td> 0.19382003 </td><td> 4.9509584  </td><td>5.047548    </td><td>1.0009765625</td></tr>\n",
       "\t<tr><td>B           </td><td>5.8824901   </td><td> 0.98970004 </td><td> 1.9421890  </td><td>5.149766    </td><td>1.0937500000</td></tr>\n",
       "\t<tr><td>C           </td><td>2.1835201   </td><td>-0.40823997 </td><td> 0.1797458  </td><td>4.922743    </td><td>0.0322265625</td></tr>\n",
       "\t<tr><td>D           </td><td>2.1835201   </td><td>-0.40823997 </td><td> 0.1797458  </td><td>4.922743    </td><td>0.0322265625</td></tr>\n",
       "\t<tr><td>E           </td><td>1.9897000   </td><td> 0.09691001 </td><td> 1.8398839  </td><td>4.875195    </td><td>0.0312500000</td></tr>\n",
       "\t<tr><td>F           </td><td>0.4845501   </td><td>-0.50514998 </td><td>-0.3786036  </td><td>4.643388    </td><td>0.0009765625</td></tr>\n",
       "</tbody>\n",
       "</table>\n"
      ],
      "text/latex": [
       "\\begin{tabular}{r|llllll}\n",
       " Node & D1 & D2 & D3 & D4 & D5\\\\\n",
       "\\hline\n",
       "\t A            & 3.6886700    &  0.19382003  &  4.9509584   & 5.047548     & 1.0009765625\\\\\n",
       "\t B            & 5.8824901    &  0.98970004  &  1.9421890   & 5.149766     & 1.0937500000\\\\\n",
       "\t C            & 2.1835201    & -0.40823997  &  0.1797458   & 4.922743     & 0.0322265625\\\\\n",
       "\t D            & 2.1835201    & -0.40823997  &  0.1797458   & 4.922743     & 0.0322265625\\\\\n",
       "\t E            & 1.9897000    &  0.09691001  &  1.8398839   & 4.875195     & 0.0312500000\\\\\n",
       "\t F            & 0.4845501    & -0.50514998  & -0.3786036   & 4.643388     & 0.0009765625\\\\\n",
       "\\end{tabular}\n"
      ],
      "text/markdown": [
       "\n",
       "| Node | D1 | D2 | D3 | D4 | D5 |\n",
       "|---|---|---|---|---|---|\n",
       "| A            | 3.6886700    |  0.19382003  |  4.9509584   | 5.047548     | 1.0009765625 |\n",
       "| B            | 5.8824901    |  0.98970004  |  1.9421890   | 5.149766     | 1.0937500000 |\n",
       "| C            | 2.1835201    | -0.40823997  |  0.1797458   | 4.922743     | 0.0322265625 |\n",
       "| D            | 2.1835201    | -0.40823997  |  0.1797458   | 4.922743     | 0.0322265625 |\n",
       "| E            | 1.9897000    |  0.09691001  |  1.8398839   | 4.875195     | 0.0312500000 |\n",
       "| F            | 0.4845501    | -0.50514998  | -0.3786036   | 4.643388     | 0.0009765625 |\n",
       "\n"
      ],
      "text/plain": [
       "  Node D1        D2          D3         D4       D5          \n",
       "1 A    3.6886700  0.19382003  4.9509584 5.047548 1.0009765625\n",
       "2 B    5.8824901  0.98970004  1.9421890 5.149766 1.0937500000\n",
       "3 C    2.1835201 -0.40823997  0.1797458 4.922743 0.0322265625\n",
       "4 D    2.1835201 -0.40823997  0.1797458 4.922743 0.0322265625\n",
       "5 E    1.9897000  0.09691001  1.8398839 4.875195 0.0312500000\n",
       "6 F    0.4845501 -0.50514998 -0.3786036 4.643388 0.0009765625"
      ]
     },
     "metadata": {},
     "output_type": "display_data"
    }
   ],
   "source": [
    "distinctiveness(g, alpha = list(1, 2, 3, 4, 5))"
   ]
  },
  {
   "cell_type": "markdown",
   "id": "5111e4b7",
   "metadata": {},
   "source": [
    "# Directed Graphs"
   ]
  },
  {
   "cell_type": "code",
   "execution_count": 19,
   "id": "d28298cb",
   "metadata": {},
   "outputs": [
    {
     "data": {
      "image/png": "[encoded data removed]",
      "text/plain": [
       "Plot with title \"\""
      ]
     },
     "metadata": {},
     "output_type": "display_data"
    }
   ],
   "source": [
    "g_dir <- make_empty_graph(directed = TRUE) %>%\n",
    "  add_vertices(1, name = \"A\") %>%\n",
    "  add_vertices(1, name = \"B\") %>%\n",
    "  add_vertices(1, name = \"C\") %>%\n",
    "  add_vertices(1, name = \"D\") %>%\n",
    "  add_vertices(1, name = \"E\") %>%\n",
    "  add_vertices(1, name = \"F\")\n",
    "g_dir <- g_dir + edge(1, 5, weight = 5) + edge(1, 2, weight = 6) +\n",
    "  edge(2, 1, weight = 2) + edge(2, 6, weight = 5) + edge(2, 3, weight = 2) +\n",
    "  edge(2, 4, weight = 2) + edge(3, 4, weight = 3) + edge(4, 3, weight = 5)\n",
    "plot(g_dir, edge.width = E(g_dir)$weight)"
   ]
  },
  {
   "cell_type": "code",
   "execution_count": 20,
   "id": "5f382d30",
   "metadata": {
    "scrolled": true
   },
   "outputs": [
    {
     "data": {
      "text/html": [
       "<table>\n",
       "<thead><tr><th scope=col>Node</th><th scope=col>D1_IN</th><th scope=col>D1_OUT</th><th scope=col>D2_IN</th><th scope=col>D2_OUT</th><th scope=col>D3_IN</th><th scope=col>D3_OUT</th><th scope=col>D4_IN</th><th scope=col>D4_OUT</th><th scope=col>D5_IN</th><th scope=col>D5_OUT</th></tr></thead>\n",
       "<tbody>\n",
       "\t<tr><td>A          </td><td>-1.0103000 </td><td>7.6886700  </td><td>-0.50514998</td><td>1.39794001 </td><td>-0.1087153 </td><td>16.248334  </td><td>0.2162162  </td><td>11.000000  </td><td>0.0625     </td><td>2.00       </td></tr>\n",
       "\t<tr><td>B          </td><td> 0.5814601 </td><td>5.2804301  </td><td> 0.09691001</td><td>1.59176003 </td><td> 0.3728874 </td><td>11.418387  </td><td>3.5409836  </td><td> 7.891247  </td><td>0.2500     </td><td>2.50       </td></tr>\n",
       "\t<tr><td>C          </td><td> 2.4845501 </td><td>0.2907300  </td><td> 0.19382003</td><td>0.09691001 </td><td> 7.2768909 </td><td> 2.334454  </td><td>5.2162162  </td><td> 2.076923  </td><td>1.0625     </td><td>0.25       </td></tr>\n",
       "\t<tr><td>D          </td><td> 1.0866101 </td><td>0.4845501  </td><td> 0.19382003</td><td>0.09691001 </td><td> 4.3226484 </td><td> 3.890756  </td><td>3.2162162  </td><td> 4.310345  </td><td>1.0625     </td><td>0.25       </td></tr>\n",
       "\t<tr><td>E          </td><td> 0.4845501 </td><td>0.0000000  </td><td> 0.09691001</td><td>0.00000000 </td><td>-0.4554023 </td><td> 0.000000  </td><td>2.0491803  </td><td> 0.000000  </td><td>0.2500     </td><td>0.00       </td></tr>\n",
       "\t<tr><td>F          </td><td>-2.5257499 </td><td>0.0000000  </td><td>-0.50514998</td><td>0.00000000 </td><td> 1.8158895 </td><td> 0.000000  </td><td>3.3783784  </td><td> 0.000000  </td><td>0.0625     </td><td>0.00       </td></tr>\n",
       "</tbody>\n",
       "</table>\n"
      ],
      "text/latex": [
       "\\begin{tabular}{r|lllllllllll}\n",
       " Node & D1\\_IN & D1\\_OUT & D2\\_IN & D2\\_OUT & D3\\_IN & D3\\_OUT & D4\\_IN & D4\\_OUT & D5\\_IN & D5\\_OUT\\\\\n",
       "\\hline\n",
       "\t A           & -1.0103000  & 7.6886700   & -0.50514998 & 1.39794001  & -0.1087153  & 16.248334   & 0.2162162   & 11.000000   & 0.0625      & 2.00       \\\\\n",
       "\t B           &  0.5814601  & 5.2804301   &  0.09691001 & 1.59176003  &  0.3728874  & 11.418387   & 3.5409836   &  7.891247   & 0.2500      & 2.50       \\\\\n",
       "\t C           &  2.4845501  & 0.2907300   &  0.19382003 & 0.09691001  &  7.2768909  &  2.334454   & 5.2162162   &  2.076923   & 1.0625      & 0.25       \\\\\n",
       "\t D           &  1.0866101  & 0.4845501   &  0.19382003 & 0.09691001  &  4.3226484  &  3.890756   & 3.2162162   &  4.310345   & 1.0625      & 0.25       \\\\\n",
       "\t E           &  0.4845501  & 0.0000000   &  0.09691001 & 0.00000000  & -0.4554023  &  0.000000   & 2.0491803   &  0.000000   & 0.2500      & 0.00       \\\\\n",
       "\t F           & -2.5257499  & 0.0000000   & -0.50514998 & 0.00000000  &  1.8158895  &  0.000000   & 3.3783784   &  0.000000   & 0.0625      & 0.00       \\\\\n",
       "\\end{tabular}\n"
      ],
      "text/markdown": [
       "\n",
       "| Node | D1_IN | D1_OUT | D2_IN | D2_OUT | D3_IN | D3_OUT | D4_IN | D4_OUT | D5_IN | D5_OUT |\n",
       "|---|---|---|---|---|---|---|---|---|---|---|\n",
       "| A           | -1.0103000  | 7.6886700   | -0.50514998 | 1.39794001  | -0.1087153  | 16.248334   | 0.2162162   | 11.000000   | 0.0625      | 2.00        |\n",
       "| B           |  0.5814601  | 5.2804301   |  0.09691001 | 1.59176003  |  0.3728874  | 11.418387   | 3.5409836   |  7.891247   | 0.2500      | 2.50        |\n",
       "| C           |  2.4845501  | 0.2907300   |  0.19382003 | 0.09691001  |  7.2768909  |  2.334454   | 5.2162162   |  2.076923   | 1.0625      | 0.25        |\n",
       "| D           |  1.0866101  | 0.4845501   |  0.19382003 | 0.09691001  |  4.3226484  |  3.890756   | 3.2162162   |  4.310345   | 1.0625      | 0.25        |\n",
       "| E           |  0.4845501  | 0.0000000   |  0.09691001 | 0.00000000  | -0.4554023  |  0.000000   | 2.0491803   |  0.000000   | 0.2500      | 0.00        |\n",
       "| F           | -2.5257499  | 0.0000000   | -0.50514998 | 0.00000000  |  1.8158895  |  0.000000   | 3.3783784   |  0.000000   | 0.0625      | 0.00        |\n",
       "\n"
      ],
      "text/plain": [
       "  Node D1_IN      D1_OUT    D2_IN       D2_OUT     D3_IN      D3_OUT   \n",
       "1 A    -1.0103000 7.6886700 -0.50514998 1.39794001 -0.1087153 16.248334\n",
       "2 B     0.5814601 5.2804301  0.09691001 1.59176003  0.3728874 11.418387\n",
       "3 C     2.4845501 0.2907300  0.19382003 0.09691001  7.2768909  2.334454\n",
       "4 D     1.0866101 0.4845501  0.19382003 0.09691001  4.3226484  3.890756\n",
       "5 E     0.4845501 0.0000000  0.09691001 0.00000000 -0.4554023  0.000000\n",
       "6 F    -2.5257499 0.0000000 -0.50514998 0.00000000  1.8158895  0.000000\n",
       "  D4_IN     D4_OUT    D5_IN  D5_OUT\n",
       "1 0.2162162 11.000000 0.0625 2.00  \n",
       "2 3.5409836  7.891247 0.2500 2.50  \n",
       "3 5.2162162  2.076923 1.0625 0.25  \n",
       "4 3.2162162  4.310345 1.0625 0.25  \n",
       "5 2.0491803  0.000000 0.2500 0.00  \n",
       "6 3.3783784  0.000000 0.0625 0.00  "
      ]
     },
     "metadata": {},
     "output_type": "display_data"
    }
   ],
   "source": [
    "# In directed graphs, each metric has an '_IN' and '_OUT' suffix (see the docs)\n",
    "\n",
    "distinctiveness(g_dir, alpha = 2, normalize = FALSE)"
   ]
  }
 ],
 "metadata": {
  "kernelspec": {
   "display_name": "R",
   "language": "R",
   "name": "ir"
  },
  "language_info": {
   "codemirror_mode": "r",
   "file_extension": ".r",
   "mimetype": "text/x-r-source",
   "name": "R",
   "pygments_lexer": "r",
   "version": "3.6.1"
  }
 },
 "nbformat": 4,
 "nbformat_minor": 5
}
