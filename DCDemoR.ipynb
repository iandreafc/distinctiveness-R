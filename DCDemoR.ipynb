{
 "cells": [
  {
   "cell_type": "code",
   "execution_count": 7,
   "id": "22b1320f",
   "metadata": {
    "collapsed": true
   },
   "outputs": [
    {
     "name": "stderr",
     "output_type": "stream",
     "text": [
      "also installing the dependencies 'cli', 'rlang', 'lifecycle'\n",
      "\n"
     ]
    },
    {
     "name": "stdout",
     "output_type": "stream",
     "text": [
      "\n",
      "  There are binary versions available but the source versions are later:\n",
      "          binary source needs_compilation\n",
      "cli        2.5.0  3.6.1              TRUE\n",
      "rlang     0.4.11  1.1.1              TRUE\n",
      "lifecycle  1.0.0  1.0.3             FALSE\n",
      "igraph     1.2.6  1.5.1              TRUE\n",
      "\n",
      "  Binaries will be installed\n"
     ]
    },
    {
     "name": "stderr",
     "output_type": "stream",
     "text": [
      "Warning message:\n",
      "\"package 'igraph' is in use and will not be installed\""
     ]
    },
    {
     "name": "stdout",
     "output_type": "stream",
     "text": [
      "package 'cli' successfully unpacked and MD5 sums checked\n",
      "package 'rlang' successfully unpacked and MD5 sums checked\n",
      "\n",
      "The downloaded binary packages are in\n",
      "\tC:\\Users\\IV\\AppData\\Local\\Temp\\RtmpGQtHAq\\downloaded_packages\n"
     ]
    },
    {
     "name": "stderr",
     "output_type": "stream",
     "text": [
      "installing the source package 'lifecycle'\n",
      "\n",
      "Warning message in install.packages(\"igraph\"):\n",
      "\"installation of package 'lifecycle' had non-zero exit status\"installing the source package 'distinctiveness'\n",
      "\n"
     ]
    }
   ],
   "source": [
    "# Import distinctiveness-R\n",
    "install.packages('igraph')\n",
    "library('igraph')\n",
    "install.packages('distinctiveness')\n",
    "library('distinctiveness')"
   ]
  },
  {
   "cell_type": "markdown",
   "id": "03055205",
   "metadata": {},
   "source": [
    "# Importing graphs from pajek"
   ]
  },
  {
   "cell_type": "code",
   "execution_count": 23,
   "id": "f2c78a49",
   "metadata": {
    "scrolled": true
   },
   "outputs": [
    {
     "data": {
      "text/html": [
       "<table>\n",
       "<thead><tr><th scope=col>Node</th><th scope=col>D1</th><th scope=col>D2</th><th scope=col>D3</th><th scope=col>D4</th><th scope=col>D5</th></tr></thead>\n",
       "<tbody>\n",
       "\t<tr><td> 1          </td><td> 80.873594  </td><td> 70.336864  </td><td> 82.555308  </td><td> 11.46367298</td><td>10.45453499 </td></tr>\n",
       "\t<tr><td> 2          </td><td> 44.617208  </td><td> 38.877730  </td><td> 44.498859  </td><td>  2.38520023</td><td> 2.22748878 </td></tr>\n",
       "\t<tr><td> 3          </td><td>164.086777  </td><td>113.690474  </td><td>166.052898  </td><td> 16.80737774</td><td>11.53756651 </td></tr>\n",
       "\t<tr><td> 4          </td><td> 76.146012  </td><td> 66.555890  </td><td> 75.220123  </td><td>  6.69414212</td><td> 6.35563497 </td></tr>\n",
       "\t<tr><td> 5          </td><td> 49.158535  </td><td> 47.883245  </td><td> 50.159979  </td><td>  7.27500441</td><td> 7.38843881 </td></tr>\n",
       "\t<tr><td> 6          </td><td>405.294200  </td><td> 78.683966  </td><td>426.663483  </td><td>154.69994034</td><td> 7.35097645 </td></tr>\n",
       "\t<tr><td> 7          </td><td>147.306871  </td><td> 77.080867  </td><td>147.397562  </td><td> 27.06964943</td><td> 9.51409284 </td></tr>\n",
       "\t<tr><td> 8          </td><td>111.303451  </td><td> 38.789971  </td><td>114.478755  </td><td> 27.14228723</td><td> 4.25206403 </td></tr>\n",
       "\t<tr><td> 9          </td><td>  3.057123  </td><td>  3.057123  </td><td>  2.930775  </td><td>  0.04856727</td><td> 0.06857143 </td></tr>\n",
       "\t<tr><td>10          </td><td> 58.569980  </td><td> 47.856410  </td><td> 58.435747  </td><td>  5.16172408</td><td> 4.90255612 </td></tr>\n",
       "\t<tr><td>11          </td><td> 12.006522  </td><td> 12.006522  </td><td> 12.043198  </td><td>  0.49484127</td><td> 0.64215686 </td></tr>\n",
       "\t<tr><td>12          </td><td> 28.435986  </td><td> 23.887154  </td><td> 27.558036  </td><td>  1.54564756</td><td> 1.85337062 </td></tr>\n",
       "\t<tr><td>13          </td><td> 10.316405  </td><td> 10.316405  </td><td> 10.534512  </td><td>  0.84860832</td><td> 0.88571429 </td></tr>\n",
       "\t<tr><td>14          </td><td> 45.742358  </td><td> 43.191779  </td><td> 46.910852  </td><td>  5.37507205</td><td> 5.35965066 </td></tr>\n",
       "\t<tr><td>15          </td><td> 69.972971  </td><td> 60.128848  </td><td> 72.073015  </td><td> 10.51974167</td><td> 9.09964800 </td></tr>\n",
       "\t<tr><td>16          </td><td> 11.736654  </td><td> 11.736654  </td><td> 11.984190  </td><td>  0.69232337</td><td> 0.73701997 </td></tr>\n",
       "\t<tr><td>17          </td><td> 33.997472  </td><td> 31.157908  </td><td> 33.165833  </td><td>  5.05556617</td><td> 5.07440191 </td></tr>\n",
       "\t<tr><td>18          </td><td> 38.198514  </td><td>  5.460877  </td><td> 39.166701  </td><td> 10.88669951</td><td> 0.25014493 </td></tr>\n",
       "\t<tr><td>19          </td><td>  2.859882  </td><td>  2.859882  </td><td>  2.839256  </td><td>  0.04445319</td><td> 0.05732946 </td></tr>\n",
       "\t<tr><td>20          </td><td> 33.358172  </td><td> 31.534698  </td><td> 34.054195  </td><td>  3.59401709</td><td> 3.65287115 </td></tr>\n",
       "\t<tr><td>21          </td><td>  9.015991  </td><td>  9.015991  </td><td>  9.360464  </td><td>  0.79761905</td><td> 0.88333333 </td></tr>\n",
       "\t<tr><td>22          </td><td> 21.005395  </td><td> 21.005395  </td><td> 21.300391  </td><td>  1.31512818</td><td> 1.36475256 </td></tr>\n",
       "\t<tr><td>23          </td><td>  7.051751  </td><td>  5.543547  </td><td>  7.288002  </td><td>  0.38974592</td><td> 0.32573633 </td></tr>\n",
       "\t<tr><td>24          </td><td> 12.938663  </td><td> 12.938663  </td><td> 13.485028  </td><td>  1.12886179</td><td> 1.13553459 </td></tr>\n",
       "\t<tr><td>25          </td><td> 19.188593  </td><td> 17.604001  </td><td> 20.091087  </td><td>  2.77744496</td><td> 2.69753569 </td></tr>\n",
       "\t<tr><td>26          </td><td>  2.522444  </td><td>  2.522444  </td><td>  2.645095  </td><td>  0.33333333</td><td> 0.33333333 </td></tr>\n",
       "\t<tr><td>27          </td><td> 13.357110  </td><td> 13.357110  </td><td> 14.002836  </td><td>  1.25059524</td><td> 1.26501832 </td></tr>\n",
       "\t<tr><td>28          </td><td> 44.055550  </td><td> 42.780261  </td><td> 44.937837  </td><td>  4.07892116</td><td> 4.15567870 </td></tr>\n",
       "\t<tr><td>29          </td><td> 61.703938  </td><td> 23.924441  </td><td> 63.538649  </td><td> 15.86462352</td><td> 2.37383834 </td></tr>\n",
       "\t<tr><td>30          </td><td>  4.567767  </td><td>  4.567767  </td><td>  4.813068  </td><td>  0.44444444</td><td> 0.44444444 </td></tr>\n",
       "\t<tr><td>...</td><td>...</td><td>...</td><td>...</td><td>...</td><td>...</td></tr>\n",
       "\t<tr><td> 971</td><td>0   </td><td>0   </td><td>0   </td><td>0   </td><td>0   </td></tr>\n",
       "\t<tr><td> 972</td><td>0   </td><td>0   </td><td>0   </td><td>0   </td><td>0   </td></tr>\n",
       "\t<tr><td> 973</td><td>0   </td><td>0   </td><td>0   </td><td>0   </td><td>0   </td></tr>\n",
       "\t<tr><td> 974</td><td>0   </td><td>0   </td><td>0   </td><td>0   </td><td>0   </td></tr>\n",
       "\t<tr><td> 975</td><td>0   </td><td>0   </td><td>0   </td><td>0   </td><td>0   </td></tr>\n",
       "\t<tr><td> 976</td><td>0   </td><td>0   </td><td>0   </td><td>0   </td><td>0   </td></tr>\n",
       "\t<tr><td> 977</td><td>0   </td><td>0   </td><td>0   </td><td>0   </td><td>0   </td></tr>\n",
       "\t<tr><td> 978</td><td>0   </td><td>0   </td><td>0   </td><td>0   </td><td>0   </td></tr>\n",
       "\t<tr><td> 979</td><td>0   </td><td>0   </td><td>0   </td><td>0   </td><td>0   </td></tr>\n",
       "\t<tr><td> 980</td><td>0   </td><td>0   </td><td>0   </td><td>0   </td><td>0   </td></tr>\n",
       "\t<tr><td> 981</td><td>0   </td><td>0   </td><td>0   </td><td>0   </td><td>0   </td></tr>\n",
       "\t<tr><td> 982</td><td>0   </td><td>0   </td><td>0   </td><td>0   </td><td>0   </td></tr>\n",
       "\t<tr><td> 983</td><td>0   </td><td>0   </td><td>0   </td><td>0   </td><td>0   </td></tr>\n",
       "\t<tr><td> 984</td><td>0   </td><td>0   </td><td>0   </td><td>0   </td><td>0   </td></tr>\n",
       "\t<tr><td> 985</td><td>0   </td><td>0   </td><td>0   </td><td>0   </td><td>0   </td></tr>\n",
       "\t<tr><td> 986</td><td>0   </td><td>0   </td><td>0   </td><td>0   </td><td>0   </td></tr>\n",
       "\t<tr><td> 987</td><td>0   </td><td>0   </td><td>0   </td><td>0   </td><td>0   </td></tr>\n",
       "\t<tr><td> 988</td><td>0   </td><td>0   </td><td>0   </td><td>0   </td><td>0   </td></tr>\n",
       "\t<tr><td> 989</td><td>0   </td><td>0   </td><td>0   </td><td>0   </td><td>0   </td></tr>\n",
       "\t<tr><td> 990</td><td>0   </td><td>0   </td><td>0   </td><td>0   </td><td>0   </td></tr>\n",
       "\t<tr><td> 991</td><td>0   </td><td>0   </td><td>0   </td><td>0   </td><td>0   </td></tr>\n",
       "\t<tr><td> 992</td><td>0   </td><td>0   </td><td>0   </td><td>0   </td><td>0   </td></tr>\n",
       "\t<tr><td> 993</td><td>0   </td><td>0   </td><td>0   </td><td>0   </td><td>0   </td></tr>\n",
       "\t<tr><td> 994</td><td>0   </td><td>0   </td><td>0   </td><td>0   </td><td>0   </td></tr>\n",
       "\t<tr><td> 995</td><td>0   </td><td>0   </td><td>0   </td><td>0   </td><td>0   </td></tr>\n",
       "\t<tr><td> 996</td><td>0   </td><td>0   </td><td>0   </td><td>0   </td><td>0   </td></tr>\n",
       "\t<tr><td> 997</td><td>0   </td><td>0   </td><td>0   </td><td>0   </td><td>0   </td></tr>\n",
       "\t<tr><td> 998</td><td>0   </td><td>0   </td><td>0   </td><td>0   </td><td>0   </td></tr>\n",
       "\t<tr><td> 999</td><td>0   </td><td>0   </td><td>0   </td><td>0   </td><td>0   </td></tr>\n",
       "\t<tr><td>1000</td><td>0   </td><td>0   </td><td>0   </td><td>0   </td><td>0   </td></tr>\n",
       "</tbody>\n",
       "</table>\n"
      ],
      "text/latex": [
       "\\begin{tabular}{r|llllll}\n",
       " Node & D1 & D2 & D3 & D4 & D5\\\\\n",
       "\\hline\n",
       "\t  1           &  80.873594   &  70.336864   &  82.555308   &  11.46367298 & 10.45453499 \\\\\n",
       "\t  2           &  44.617208   &  38.877730   &  44.498859   &   2.38520023 &  2.22748878 \\\\\n",
       "\t  3           & 164.086777   & 113.690474   & 166.052898   &  16.80737774 & 11.53756651 \\\\\n",
       "\t  4           &  76.146012   &  66.555890   &  75.220123   &   6.69414212 &  6.35563497 \\\\\n",
       "\t  5           &  49.158535   &  47.883245   &  50.159979   &   7.27500441 &  7.38843881 \\\\\n",
       "\t  6           & 405.294200   &  78.683966   & 426.663483   & 154.69994034 &  7.35097645 \\\\\n",
       "\t  7           & 147.306871   &  77.080867   & 147.397562   &  27.06964943 &  9.51409284 \\\\\n",
       "\t  8           & 111.303451   &  38.789971   & 114.478755   &  27.14228723 &  4.25206403 \\\\\n",
       "\t  9           &   3.057123   &   3.057123   &   2.930775   &   0.04856727 &  0.06857143 \\\\\n",
       "\t 10           &  58.569980   &  47.856410   &  58.435747   &   5.16172408 &  4.90255612 \\\\\n",
       "\t 11           &  12.006522   &  12.006522   &  12.043198   &   0.49484127 &  0.64215686 \\\\\n",
       "\t 12           &  28.435986   &  23.887154   &  27.558036   &   1.54564756 &  1.85337062 \\\\\n",
       "\t 13           &  10.316405   &  10.316405   &  10.534512   &   0.84860832 &  0.88571429 \\\\\n",
       "\t 14           &  45.742358   &  43.191779   &  46.910852   &   5.37507205 &  5.35965066 \\\\\n",
       "\t 15           &  69.972971   &  60.128848   &  72.073015   &  10.51974167 &  9.09964800 \\\\\n",
       "\t 16           &  11.736654   &  11.736654   &  11.984190   &   0.69232337 &  0.73701997 \\\\\n",
       "\t 17           &  33.997472   &  31.157908   &  33.165833   &   5.05556617 &  5.07440191 \\\\\n",
       "\t 18           &  38.198514   &   5.460877   &  39.166701   &  10.88669951 &  0.25014493 \\\\\n",
       "\t 19           &   2.859882   &   2.859882   &   2.839256   &   0.04445319 &  0.05732946 \\\\\n",
       "\t 20           &  33.358172   &  31.534698   &  34.054195   &   3.59401709 &  3.65287115 \\\\\n",
       "\t 21           &   9.015991   &   9.015991   &   9.360464   &   0.79761905 &  0.88333333 \\\\\n",
       "\t 22           &  21.005395   &  21.005395   &  21.300391   &   1.31512818 &  1.36475256 \\\\\n",
       "\t 23           &   7.051751   &   5.543547   &   7.288002   &   0.38974592 &  0.32573633 \\\\\n",
       "\t 24           &  12.938663   &  12.938663   &  13.485028   &   1.12886179 &  1.13553459 \\\\\n",
       "\t 25           &  19.188593   &  17.604001   &  20.091087   &   2.77744496 &  2.69753569 \\\\\n",
       "\t 26           &   2.522444   &   2.522444   &   2.645095   &   0.33333333 &  0.33333333 \\\\\n",
       "\t 27           &  13.357110   &  13.357110   &  14.002836   &   1.25059524 &  1.26501832 \\\\\n",
       "\t 28           &  44.055550   &  42.780261   &  44.937837   &   4.07892116 &  4.15567870 \\\\\n",
       "\t 29           &  61.703938   &  23.924441   &  63.538649   &  15.86462352 &  2.37383834 \\\\\n",
       "\t 30           &   4.567767   &   4.567767   &   4.813068   &   0.44444444 &  0.44444444 \\\\\n",
       "\t ... & ... & ... & ... & ... & ...\\\\\n",
       "\t  971 & 0    & 0    & 0    & 0    & 0   \\\\\n",
       "\t  972 & 0    & 0    & 0    & 0    & 0   \\\\\n",
       "\t  973 & 0    & 0    & 0    & 0    & 0   \\\\\n",
       "\t  974 & 0    & 0    & 0    & 0    & 0   \\\\\n",
       "\t  975 & 0    & 0    & 0    & 0    & 0   \\\\\n",
       "\t  976 & 0    & 0    & 0    & 0    & 0   \\\\\n",
       "\t  977 & 0    & 0    & 0    & 0    & 0   \\\\\n",
       "\t  978 & 0    & 0    & 0    & 0    & 0   \\\\\n",
       "\t  979 & 0    & 0    & 0    & 0    & 0   \\\\\n",
       "\t  980 & 0    & 0    & 0    & 0    & 0   \\\\\n",
       "\t  981 & 0    & 0    & 0    & 0    & 0   \\\\\n",
       "\t  982 & 0    & 0    & 0    & 0    & 0   \\\\\n",
       "\t  983 & 0    & 0    & 0    & 0    & 0   \\\\\n",
       "\t  984 & 0    & 0    & 0    & 0    & 0   \\\\\n",
       "\t  985 & 0    & 0    & 0    & 0    & 0   \\\\\n",
       "\t  986 & 0    & 0    & 0    & 0    & 0   \\\\\n",
       "\t  987 & 0    & 0    & 0    & 0    & 0   \\\\\n",
       "\t  988 & 0    & 0    & 0    & 0    & 0   \\\\\n",
       "\t  989 & 0    & 0    & 0    & 0    & 0   \\\\\n",
       "\t  990 & 0    & 0    & 0    & 0    & 0   \\\\\n",
       "\t  991 & 0    & 0    & 0    & 0    & 0   \\\\\n",
       "\t  992 & 0    & 0    & 0    & 0    & 0   \\\\\n",
       "\t  993 & 0    & 0    & 0    & 0    & 0   \\\\\n",
       "\t  994 & 0    & 0    & 0    & 0    & 0   \\\\\n",
       "\t  995 & 0    & 0    & 0    & 0    & 0   \\\\\n",
       "\t  996 & 0    & 0    & 0    & 0    & 0   \\\\\n",
       "\t  997 & 0    & 0    & 0    & 0    & 0   \\\\\n",
       "\t  998 & 0    & 0    & 0    & 0    & 0   \\\\\n",
       "\t  999 & 0    & 0    & 0    & 0    & 0   \\\\\n",
       "\t 1000 & 0    & 0    & 0    & 0    & 0   \\\\\n",
       "\\end{tabular}\n"
      ],
      "text/markdown": [
       "\n",
       "| Node | D1 | D2 | D3 | D4 | D5 |\n",
       "|---|---|---|---|---|---|\n",
       "|  1           |  80.873594   |  70.336864   |  82.555308   |  11.46367298 | 10.45453499  |\n",
       "|  2           |  44.617208   |  38.877730   |  44.498859   |   2.38520023 |  2.22748878  |\n",
       "|  3           | 164.086777   | 113.690474   | 166.052898   |  16.80737774 | 11.53756651  |\n",
       "|  4           |  76.146012   |  66.555890   |  75.220123   |   6.69414212 |  6.35563497  |\n",
       "|  5           |  49.158535   |  47.883245   |  50.159979   |   7.27500441 |  7.38843881  |\n",
       "|  6           | 405.294200   |  78.683966   | 426.663483   | 154.69994034 |  7.35097645  |\n",
       "|  7           | 147.306871   |  77.080867   | 147.397562   |  27.06964943 |  9.51409284  |\n",
       "|  8           | 111.303451   |  38.789971   | 114.478755   |  27.14228723 |  4.25206403  |\n",
       "|  9           |   3.057123   |   3.057123   |   2.930775   |   0.04856727 |  0.06857143  |\n",
       "| 10           |  58.569980   |  47.856410   |  58.435747   |   5.16172408 |  4.90255612  |\n",
       "| 11           |  12.006522   |  12.006522   |  12.043198   |   0.49484127 |  0.64215686  |\n",
       "| 12           |  28.435986   |  23.887154   |  27.558036   |   1.54564756 |  1.85337062  |\n",
       "| 13           |  10.316405   |  10.316405   |  10.534512   |   0.84860832 |  0.88571429  |\n",
       "| 14           |  45.742358   |  43.191779   |  46.910852   |   5.37507205 |  5.35965066  |\n",
       "| 15           |  69.972971   |  60.128848   |  72.073015   |  10.51974167 |  9.09964800  |\n",
       "| 16           |  11.736654   |  11.736654   |  11.984190   |   0.69232337 |  0.73701997  |\n",
       "| 17           |  33.997472   |  31.157908   |  33.165833   |   5.05556617 |  5.07440191  |\n",
       "| 18           |  38.198514   |   5.460877   |  39.166701   |  10.88669951 |  0.25014493  |\n",
       "| 19           |   2.859882   |   2.859882   |   2.839256   |   0.04445319 |  0.05732946  |\n",
       "| 20           |  33.358172   |  31.534698   |  34.054195   |   3.59401709 |  3.65287115  |\n",
       "| 21           |   9.015991   |   9.015991   |   9.360464   |   0.79761905 |  0.88333333  |\n",
       "| 22           |  21.005395   |  21.005395   |  21.300391   |   1.31512818 |  1.36475256  |\n",
       "| 23           |   7.051751   |   5.543547   |   7.288002   |   0.38974592 |  0.32573633  |\n",
       "| 24           |  12.938663   |  12.938663   |  13.485028   |   1.12886179 |  1.13553459  |\n",
       "| 25           |  19.188593   |  17.604001   |  20.091087   |   2.77744496 |  2.69753569  |\n",
       "| 26           |   2.522444   |   2.522444   |   2.645095   |   0.33333333 |  0.33333333  |\n",
       "| 27           |  13.357110   |  13.357110   |  14.002836   |   1.25059524 |  1.26501832  |\n",
       "| 28           |  44.055550   |  42.780261   |  44.937837   |   4.07892116 |  4.15567870  |\n",
       "| 29           |  61.703938   |  23.924441   |  63.538649   |  15.86462352 |  2.37383834  |\n",
       "| 30           |   4.567767   |   4.567767   |   4.813068   |   0.44444444 |  0.44444444  |\n",
       "| ... | ... | ... | ... | ... | ... |\n",
       "|  971 | 0    | 0    | 0    | 0    | 0    |\n",
       "|  972 | 0    | 0    | 0    | 0    | 0    |\n",
       "|  973 | 0    | 0    | 0    | 0    | 0    |\n",
       "|  974 | 0    | 0    | 0    | 0    | 0    |\n",
       "|  975 | 0    | 0    | 0    | 0    | 0    |\n",
       "|  976 | 0    | 0    | 0    | 0    | 0    |\n",
       "|  977 | 0    | 0    | 0    | 0    | 0    |\n",
       "|  978 | 0    | 0    | 0    | 0    | 0    |\n",
       "|  979 | 0    | 0    | 0    | 0    | 0    |\n",
       "|  980 | 0    | 0    | 0    | 0    | 0    |\n",
       "|  981 | 0    | 0    | 0    | 0    | 0    |\n",
       "|  982 | 0    | 0    | 0    | 0    | 0    |\n",
       "|  983 | 0    | 0    | 0    | 0    | 0    |\n",
       "|  984 | 0    | 0    | 0    | 0    | 0    |\n",
       "|  985 | 0    | 0    | 0    | 0    | 0    |\n",
       "|  986 | 0    | 0    | 0    | 0    | 0    |\n",
       "|  987 | 0    | 0    | 0    | 0    | 0    |\n",
       "|  988 | 0    | 0    | 0    | 0    | 0    |\n",
       "|  989 | 0    | 0    | 0    | 0    | 0    |\n",
       "|  990 | 0    | 0    | 0    | 0    | 0    |\n",
       "|  991 | 0    | 0    | 0    | 0    | 0    |\n",
       "|  992 | 0    | 0    | 0    | 0    | 0    |\n",
       "|  993 | 0    | 0    | 0    | 0    | 0    |\n",
       "|  994 | 0    | 0    | 0    | 0    | 0    |\n",
       "|  995 | 0    | 0    | 0    | 0    | 0    |\n",
       "|  996 | 0    | 0    | 0    | 0    | 0    |\n",
       "|  997 | 0    | 0    | 0    | 0    | 0    |\n",
       "|  998 | 0    | 0    | 0    | 0    | 0    |\n",
       "|  999 | 0    | 0    | 0    | 0    | 0    |\n",
       "| 1000 | 0    | 0    | 0    | 0    | 0    |\n",
       "\n"
      ],
      "text/plain": [
       "     Node D1         D2         D3         D4           D5         \n",
       "1     1    80.873594  70.336864  82.555308  11.46367298 10.45453499\n",
       "2     2    44.617208  38.877730  44.498859   2.38520023  2.22748878\n",
       "3     3   164.086777 113.690474 166.052898  16.80737774 11.53756651\n",
       "4     4    76.146012  66.555890  75.220123   6.69414212  6.35563497\n",
       "5     5    49.158535  47.883245  50.159979   7.27500441  7.38843881\n",
       "6     6   405.294200  78.683966 426.663483 154.69994034  7.35097645\n",
       "7     7   147.306871  77.080867 147.397562  27.06964943  9.51409284\n",
       "8     8   111.303451  38.789971 114.478755  27.14228723  4.25206403\n",
       "9     9     3.057123   3.057123   2.930775   0.04856727  0.06857143\n",
       "10   10    58.569980  47.856410  58.435747   5.16172408  4.90255612\n",
       "11   11    12.006522  12.006522  12.043198   0.49484127  0.64215686\n",
       "12   12    28.435986  23.887154  27.558036   1.54564756  1.85337062\n",
       "13   13    10.316405  10.316405  10.534512   0.84860832  0.88571429\n",
       "14   14    45.742358  43.191779  46.910852   5.37507205  5.35965066\n",
       "15   15    69.972971  60.128848  72.073015  10.51974167  9.09964800\n",
       "16   16    11.736654  11.736654  11.984190   0.69232337  0.73701997\n",
       "17   17    33.997472  31.157908  33.165833   5.05556617  5.07440191\n",
       "18   18    38.198514   5.460877  39.166701  10.88669951  0.25014493\n",
       "19   19     2.859882   2.859882   2.839256   0.04445319  0.05732946\n",
       "20   20    33.358172  31.534698  34.054195   3.59401709  3.65287115\n",
       "21   21     9.015991   9.015991   9.360464   0.79761905  0.88333333\n",
       "22   22    21.005395  21.005395  21.300391   1.31512818  1.36475256\n",
       "23   23     7.051751   5.543547   7.288002   0.38974592  0.32573633\n",
       "24   24    12.938663  12.938663  13.485028   1.12886179  1.13553459\n",
       "25   25    19.188593  17.604001  20.091087   2.77744496  2.69753569\n",
       "26   26     2.522444   2.522444   2.645095   0.33333333  0.33333333\n",
       "27   27    13.357110  13.357110  14.002836   1.25059524  1.26501832\n",
       "28   28    44.055550  42.780261  44.937837   4.07892116  4.15567870\n",
       "29   29    61.703938  23.924441  63.538649  15.86462352  2.37383834\n",
       "30   30     4.567767   4.567767   4.813068   0.44444444  0.44444444\n",
       "...  ...  ...        ...        ...        ...          ...        \n",
       "971   971 0          0          0          0            0          \n",
       "972   972 0          0          0          0            0          \n",
       "973   973 0          0          0          0            0          \n",
       "974   974 0          0          0          0            0          \n",
       "975   975 0          0          0          0            0          \n",
       "976   976 0          0          0          0            0          \n",
       "977   977 0          0          0          0            0          \n",
       "978   978 0          0          0          0            0          \n",
       "979   979 0          0          0          0            0          \n",
       "980   980 0          0          0          0            0          \n",
       "981   981 0          0          0          0            0          \n",
       "982   982 0          0          0          0            0          \n",
       "983   983 0          0          0          0            0          \n",
       "984   984 0          0          0          0            0          \n",
       "985   985 0          0          0          0            0          \n",
       "986   986 0          0          0          0            0          \n",
       "987   987 0          0          0          0            0          \n",
       "988   988 0          0          0          0            0          \n",
       "989   989 0          0          0          0            0          \n",
       "990   990 0          0          0          0            0          \n",
       "991   991 0          0          0          0            0          \n",
       "992   992 0          0          0          0            0          \n",
       "993   993 0          0          0          0            0          \n",
       "994   994 0          0          0          0            0          \n",
       "995   995 0          0          0          0            0          \n",
       "996   996 0          0          0          0            0          \n",
       "997   997 0          0          0          0            0          \n",
       "998   998 0          0          0          0            0          \n",
       "999   999 0          0          0          0            0          \n",
       "1000 1000 0          0          0          0            0          "
      ]
     },
     "metadata": {},
     "output_type": "display_data"
    }
   ],
   "source": [
    "# replace \"resources/Undirected.net\" the file path to the pajek graph you wish to load in,\n",
    "# getwd() (displays current working directory) and setwd() (sets current working directory)\n",
    "# are useful R functions for aiding with this\n",
    "\n",
    "g <- read_graph(\"resources/Undirected.net\", format = \"pajek\")\n",
    "distinctiveness(g)"
   ]
  },
  {
   "cell_type": "markdown",
   "id": "fceef5b3",
   "metadata": {},
   "source": [
    "# Undirected Graphs"
   ]
  },
  {
   "cell_type": "code",
   "execution_count": 8,
   "id": "850ae847",
   "metadata": {},
   "outputs": [
    {
     "data": {
      "image/png": "[encoded data removed]",
      "text/plain": [
       "Plot with title \"\""
      ]
     },
     "metadata": {},
     "output_type": "display_data"
    }
   ],
   "source": [
    "g <- make_empty_graph(directed = FALSE) %>%\n",
    "  add_vertices(1, name = \"A\") %>%\n",
    "  add_vertices(1, name = \"B\") %>%\n",
    "  add_vertices(1, name = \"C\") %>%\n",
    "  add_vertices(1, name = \"D\") %>%\n",
    "  add_vertices(1, name = \"E\") %>%\n",
    "  add_vertices(1, name = \"F\")\n",
    "g <- g + edge(1, 5, weight = 5) + edge(1, 2, weight = 2) + \n",
    "     edge(2, 6, weight = 5) + edge(2, 3, weight = 2) + \n",
    "     edge(2, 4, weight = 2) + edge(3, 4, weight = 5)\n",
    "plot(g, edge.width = E(g)$weight)"
   ]
  },
  {
   "cell_type": "code",
   "execution_count": 9,
   "id": "49a316c6",
   "metadata": {},
   "outputs": [
    {
     "data": {
      "text/html": [
       "<table>\n",
       "<thead><tr><th scope=col>Node</th><th scope=col>D1</th><th scope=col>D2</th><th scope=col>D3</th><th scope=col>D4</th><th scope=col>D5</th></tr></thead>\n",
       "<tbody>\n",
       "\t<tr><td>1         </td><td>3.6886700 </td><td>0.79588002</td><td>7.255535  </td><td>5.363636  </td><td>1.25      </td></tr>\n",
       "\t<tr><td>2         </td><td>5.8824901 </td><td>1.89279003</td><td>9.875505  </td><td>6.714286  </td><td>2.50      </td></tr>\n",
       "\t<tr><td>3         </td><td>2.1835201 </td><td>0.49485002</td><td>4.869929  </td><td>3.935065  </td><td>0.75      </td></tr>\n",
       "\t<tr><td>4         </td><td>2.1835201 </td><td>0.49485002</td><td>4.869929  </td><td>3.935065  </td><td>0.75      </td></tr>\n",
       "\t<tr><td>5         </td><td>1.9897000 </td><td>0.39794001</td><td>4.225490  </td><td>3.571429  </td><td>0.50      </td></tr>\n",
       "\t<tr><td>6         </td><td>0.4845501 </td><td>0.09691001</td><td>2.385606  </td><td>2.272727  </td><td>0.25      </td></tr>\n",
       "</tbody>\n",
       "</table>\n"
      ],
      "text/latex": [
       "\\begin{tabular}{r|llllll}\n",
       " Node & D1 & D2 & D3 & D4 & D5\\\\\n",
       "\\hline\n",
       "\t 1          & 3.6886700  & 0.79588002 & 7.255535   & 5.363636   & 1.25      \\\\\n",
       "\t 2          & 5.8824901  & 1.89279003 & 9.875505   & 6.714286   & 2.50      \\\\\n",
       "\t 3          & 2.1835201  & 0.49485002 & 4.869929   & 3.935065   & 0.75      \\\\\n",
       "\t 4          & 2.1835201  & 0.49485002 & 4.869929   & 3.935065   & 0.75      \\\\\n",
       "\t 5          & 1.9897000  & 0.39794001 & 4.225490   & 3.571429   & 0.50      \\\\\n",
       "\t 6          & 0.4845501  & 0.09691001 & 2.385606   & 2.272727   & 0.25      \\\\\n",
       "\\end{tabular}\n"
      ],
      "text/markdown": [
       "\n",
       "| Node | D1 | D2 | D3 | D4 | D5 |\n",
       "|---|---|---|---|---|---|\n",
       "| 1          | 3.6886700  | 0.79588002 | 7.255535   | 5.363636   | 1.25       |\n",
       "| 2          | 5.8824901  | 1.89279003 | 9.875505   | 6.714286   | 2.50       |\n",
       "| 3          | 2.1835201  | 0.49485002 | 4.869929   | 3.935065   | 0.75       |\n",
       "| 4          | 2.1835201  | 0.49485002 | 4.869929   | 3.935065   | 0.75       |\n",
       "| 5          | 1.9897000  | 0.39794001 | 4.225490   | 3.571429   | 0.50       |\n",
       "| 6          | 0.4845501  | 0.09691001 | 2.385606   | 2.272727   | 0.25       |\n",
       "\n"
      ],
      "text/plain": [
       "  Node D1        D2         D3       D4       D5  \n",
       "1 1    3.6886700 0.79588002 7.255535 5.363636 1.25\n",
       "2 2    5.8824901 1.89279003 9.875505 6.714286 2.50\n",
       "3 3    2.1835201 0.49485002 4.869929 3.935065 0.75\n",
       "4 4    2.1835201 0.49485002 4.869929 3.935065 0.75\n",
       "5 5    1.9897000 0.39794001 4.225490 3.571429 0.50\n",
       "6 6    0.4845501 0.09691001 2.385606 2.272727 0.25"
      ]
     },
     "metadata": {},
     "output_type": "display_data"
    }
   ],
   "source": [
    "# Calculate the 5 metrics of Distinctiveness Centrality\n",
    "\n",
    "distinctiveness(g)"
   ]
  },
  {
   "cell_type": "code",
   "execution_count": 10,
   "id": "b4150d19",
   "metadata": {},
   "outputs": [
    {
     "data": {
      "text/html": [
       "<table>\n",
       "<thead><tr><th scope=col>Node</th><th scope=col>D1</th><th scope=col>D2</th></tr></thead>\n",
       "<tbody>\n",
       "\t<tr><td>1         </td><td>3.6886700 </td><td>0.79588002</td></tr>\n",
       "\t<tr><td>2         </td><td>5.8824901 </td><td>1.89279003</td></tr>\n",
       "\t<tr><td>3         </td><td>2.1835201 </td><td>0.49485002</td></tr>\n",
       "\t<tr><td>4         </td><td>2.1835201 </td><td>0.49485002</td></tr>\n",
       "\t<tr><td>5         </td><td>1.9897000 </td><td>0.39794001</td></tr>\n",
       "\t<tr><td>6         </td><td>0.4845501 </td><td>0.09691001</td></tr>\n",
       "</tbody>\n",
       "</table>\n"
      ],
      "text/latex": [
       "\\begin{tabular}{r|lll}\n",
       " Node & D1 & D2\\\\\n",
       "\\hline\n",
       "\t 1          & 3.6886700  & 0.79588002\\\\\n",
       "\t 2          & 5.8824901  & 1.89279003\\\\\n",
       "\t 3          & 2.1835201  & 0.49485002\\\\\n",
       "\t 4          & 2.1835201  & 0.49485002\\\\\n",
       "\t 5          & 1.9897000  & 0.39794001\\\\\n",
       "\t 6          & 0.4845501  & 0.09691001\\\\\n",
       "\\end{tabular}\n"
      ],
      "text/markdown": [
       "\n",
       "| Node | D1 | D2 |\n",
       "|---|---|---|\n",
       "| 1          | 3.6886700  | 0.79588002 |\n",
       "| 2          | 5.8824901  | 1.89279003 |\n",
       "| 3          | 2.1835201  | 0.49485002 |\n",
       "| 4          | 2.1835201  | 0.49485002 |\n",
       "| 5          | 1.9897000  | 0.39794001 |\n",
       "| 6          | 0.4845501  | 0.09691001 |\n",
       "\n"
      ],
      "text/plain": [
       "  Node D1        D2        \n",
       "1 1    3.6886700 0.79588002\n",
       "2 2    5.8824901 1.89279003\n",
       "3 3    2.1835201 0.49485002\n",
       "4 4    2.1835201 0.49485002\n",
       "5 5    1.9897000 0.39794001\n",
       "6 6    0.4845501 0.09691001"
      ]
     },
     "metadata": {},
     "output_type": "display_data"
    }
   ],
   "source": [
    "# measures allows you to calculate only the metrics of Distinctiveness Centrality which you specify\n",
    "# measures defaults to c(\"D1\", \"D2\", \"D3\", \"D4\", \"D5\")\n",
    "\n",
    "distinctiveness(g, measures = c(\"D1\", \"D2\"))"
   ]
  },
  {
   "cell_type": "code",
   "execution_count": 11,
   "id": "c943464d",
   "metadata": {},
   "outputs": [
    {
     "data": {
      "text/html": [
       "<table>\n",
       "<thead><tr><th scope=col>Node</th><th scope=col>D1</th><th scope=col>D2</th><th scope=col>D3</th><th scope=col>D4</th><th scope=col>D5</th></tr></thead>\n",
       "<tbody>\n",
       "\t<tr><td>1          </td><td> 2.4845501 </td><td> 0.19382003</td><td>6.192577   </td><td>5.216216   </td><td>1.0625     </td></tr>\n",
       "\t<tr><td>2          </td><td> 4.0763101 </td><td> 0.98970004</td><td>6.054572   </td><td>5.827586   </td><td>1.7500     </td></tr>\n",
       "\t<tr><td>3          </td><td>-0.5257499 </td><td>-0.40823997</td><td>2.697727   </td><td>4.526561   </td><td>0.3125     </td></tr>\n",
       "\t<tr><td>4          </td><td>-0.5257499 </td><td>-0.40823997</td><td>2.697727   </td><td>4.526561   </td><td>0.3125     </td></tr>\n",
       "\t<tr><td>5          </td><td> 0.4845501 </td><td> 0.09691001</td><td>3.116246   </td><td>4.310345   </td><td>0.2500     </td></tr>\n",
       "\t<tr><td>6          </td><td>-2.5257499 </td><td>-0.50514998</td><td>1.041380   </td><td>3.378378   </td><td>0.0625     </td></tr>\n",
       "</tbody>\n",
       "</table>\n"
      ],
      "text/latex": [
       "\\begin{tabular}{r|llllll}\n",
       " Node & D1 & D2 & D3 & D4 & D5\\\\\n",
       "\\hline\n",
       "\t 1           &  2.4845501  &  0.19382003 & 6.192577    & 5.216216    & 1.0625     \\\\\n",
       "\t 2           &  4.0763101  &  0.98970004 & 6.054572    & 5.827586    & 1.7500     \\\\\n",
       "\t 3           & -0.5257499  & -0.40823997 & 2.697727    & 4.526561    & 0.3125     \\\\\n",
       "\t 4           & -0.5257499  & -0.40823997 & 2.697727    & 4.526561    & 0.3125     \\\\\n",
       "\t 5           &  0.4845501  &  0.09691001 & 3.116246    & 4.310345    & 0.2500     \\\\\n",
       "\t 6           & -2.5257499  & -0.50514998 & 1.041380    & 3.378378    & 0.0625     \\\\\n",
       "\\end{tabular}\n"
      ],
      "text/markdown": [
       "\n",
       "| Node | D1 | D2 | D3 | D4 | D5 |\n",
       "|---|---|---|---|---|---|\n",
       "| 1           |  2.4845501  |  0.19382003 | 6.192577    | 5.216216    | 1.0625      |\n",
       "| 2           |  4.0763101  |  0.98970004 | 6.054572    | 5.827586    | 1.7500      |\n",
       "| 3           | -0.5257499  | -0.40823997 | 2.697727    | 4.526561    | 0.3125      |\n",
       "| 4           | -0.5257499  | -0.40823997 | 2.697727    | 4.526561    | 0.3125      |\n",
       "| 5           |  0.4845501  |  0.09691001 | 3.116246    | 4.310345    | 0.2500      |\n",
       "| 6           | -2.5257499  | -0.50514998 | 1.041380    | 3.378378    | 0.0625      |\n",
       "\n"
      ],
      "text/plain": [
       "  Node D1         D2          D3       D4       D5    \n",
       "1 1     2.4845501  0.19382003 6.192577 5.216216 1.0625\n",
       "2 2     4.0763101  0.98970004 6.054572 5.827586 1.7500\n",
       "3 3    -0.5257499 -0.40823997 2.697727 4.526561 0.3125\n",
       "4 4    -0.5257499 -0.40823997 2.697727 4.526561 0.3125\n",
       "5 5     0.4845501  0.09691001 3.116246 4.310345 0.2500\n",
       "6 6    -2.5257499 -0.50514998 1.041380 3.378378 0.0625"
      ]
     },
     "metadata": {},
     "output_type": "display_data"
    }
   ],
   "source": [
    "# alpha is a coefficient that can be increased to exponentially penalize vertices with more connections with high-degree nodes\n",
    "#\n",
    "# When alpha > 1, negative values are possible \n",
    "#\n",
    "# alpha defaults to 1\n",
    "\n",
    "distinctiveness(g, alpha = 2)"
   ]
  },
  {
   "cell_type": "code",
   "execution_count": 12,
   "id": "9c9c87ce",
   "metadata": {},
   "outputs": [
    {
     "data": {
      "text/html": [
       "<table>\n",
       "<thead><tr><th scope=col>Node</th><th scope=col>D1</th><th scope=col>D2</th><th scope=col>D3</th><th scope=col>D4</th><th scope=col>D5</th></tr></thead>\n",
       "<tbody>\n",
       "\t<tr><td>1           </td><td>3.6886700   </td><td> 0.19382003 </td><td> 4.9509584  </td><td>5.047548    </td><td>1.0009765625</td></tr>\n",
       "\t<tr><td>2           </td><td>5.8824901   </td><td> 0.98970004 </td><td> 1.9421890  </td><td>5.149766    </td><td>1.0937500000</td></tr>\n",
       "\t<tr><td>3           </td><td>2.1835201   </td><td>-0.40823997 </td><td> 0.1797458  </td><td>4.922743    </td><td>0.0322265625</td></tr>\n",
       "\t<tr><td>4           </td><td>2.1835201   </td><td>-0.40823997 </td><td> 0.1797458  </td><td>4.922743    </td><td>0.0322265625</td></tr>\n",
       "\t<tr><td>5           </td><td>1.9897000   </td><td> 0.09691001 </td><td> 1.8398839  </td><td>4.875195    </td><td>0.0312500000</td></tr>\n",
       "\t<tr><td>6           </td><td>0.4845501   </td><td>-0.50514998 </td><td>-0.3786036  </td><td>4.643388    </td><td>0.0009765625</td></tr>\n",
       "</tbody>\n",
       "</table>\n"
      ],
      "text/latex": [
       "\\begin{tabular}{r|llllll}\n",
       " Node & D1 & D2 & D3 & D4 & D5\\\\\n",
       "\\hline\n",
       "\t 1            & 3.6886700    &  0.19382003  &  4.9509584   & 5.047548     & 1.0009765625\\\\\n",
       "\t 2            & 5.8824901    &  0.98970004  &  1.9421890   & 5.149766     & 1.0937500000\\\\\n",
       "\t 3            & 2.1835201    & -0.40823997  &  0.1797458   & 4.922743     & 0.0322265625\\\\\n",
       "\t 4            & 2.1835201    & -0.40823997  &  0.1797458   & 4.922743     & 0.0322265625\\\\\n",
       "\t 5            & 1.9897000    &  0.09691001  &  1.8398839   & 4.875195     & 0.0312500000\\\\\n",
       "\t 6            & 0.4845501    & -0.50514998  & -0.3786036   & 4.643388     & 0.0009765625\\\\\n",
       "\\end{tabular}\n"
      ],
      "text/markdown": [
       "\n",
       "| Node | D1 | D2 | D3 | D4 | D5 |\n",
       "|---|---|---|---|---|---|\n",
       "| 1            | 3.6886700    |  0.19382003  |  4.9509584   | 5.047548     | 1.0009765625 |\n",
       "| 2            | 5.8824901    |  0.98970004  |  1.9421890   | 5.149766     | 1.0937500000 |\n",
       "| 3            | 2.1835201    | -0.40823997  |  0.1797458   | 4.922743     | 0.0322265625 |\n",
       "| 4            | 2.1835201    | -0.40823997  |  0.1797458   | 4.922743     | 0.0322265625 |\n",
       "| 5            | 1.9897000    |  0.09691001  |  1.8398839   | 4.875195     | 0.0312500000 |\n",
       "| 6            | 0.4845501    | -0.50514998  | -0.3786036   | 4.643388     | 0.0009765625 |\n",
       "\n"
      ],
      "text/plain": [
       "  Node D1        D2          D3         D4       D5          \n",
       "1 1    3.6886700  0.19382003  4.9509584 5.047548 1.0009765625\n",
       "2 2    5.8824901  0.98970004  1.9421890 5.149766 1.0937500000\n",
       "3 3    2.1835201 -0.40823997  0.1797458 4.922743 0.0322265625\n",
       "4 4    2.1835201 -0.40823997  0.1797458 4.922743 0.0322265625\n",
       "5 5    1.9897000  0.09691001  1.8398839 4.875195 0.0312500000\n",
       "6 6    0.4845501 -0.50514998 -0.3786036 4.643388 0.0009765625"
      ]
     },
     "metadata": {},
     "output_type": "display_data"
    }
   ],
   "source": [
    "# alpha can be specified as a list, where the first element of the list is the alpha value used for D1, the second for D2, etc.\n",
    "\n",
    "distinctiveness(g, alpha = list(1, 2, 3, 4, 5))"
   ]
  },
  {
   "cell_type": "code",
   "execution_count": 13,
   "id": "0af8d24a",
   "metadata": {},
   "outputs": [
    {
     "data": {
      "text/html": [
       "<table>\n",
       "<thead><tr><th scope=col>Node</th><th scope=col>D1</th><th scope=col>D2</th><th scope=col>D3</th><th scope=col>D4</th><th scope=col>D5</th></tr></thead>\n",
       "<tbody>\n",
       "\t<tr><td>1         </td><td>0.21109175</td><td>0.22772938</td><td>0.15477969</td><td>0.21454545</td><td>0.25      </td></tr>\n",
       "\t<tr><td>2         </td><td>0.33663763</td><td>0.54159407</td><td>0.21067055</td><td>0.26857143</td><td>0.50      </td></tr>\n",
       "\t<tr><td>3         </td><td>0.12495644</td><td>0.14159407</td><td>0.10388842</td><td>0.15740260</td><td>0.15      </td></tr>\n",
       "\t<tr><td>4         </td><td>0.12495644</td><td>0.14159407</td><td>0.10388842</td><td>0.15740260</td><td>0.15      </td></tr>\n",
       "\t<tr><td>5         </td><td>0.11386469</td><td>0.11386469</td><td>0.09014085</td><td>0.14285714</td><td>0.10      </td></tr>\n",
       "\t<tr><td>6         </td><td>0.02772938</td><td>0.02772938</td><td>0.05089127</td><td>0.09090909</td><td>0.05      </td></tr>\n",
       "</tbody>\n",
       "</table>\n"
      ],
      "text/latex": [
       "\\begin{tabular}{r|llllll}\n",
       " Node & D1 & D2 & D3 & D4 & D5\\\\\n",
       "\\hline\n",
       "\t 1          & 0.21109175 & 0.22772938 & 0.15477969 & 0.21454545 & 0.25      \\\\\n",
       "\t 2          & 0.33663763 & 0.54159407 & 0.21067055 & 0.26857143 & 0.50      \\\\\n",
       "\t 3          & 0.12495644 & 0.14159407 & 0.10388842 & 0.15740260 & 0.15      \\\\\n",
       "\t 4          & 0.12495644 & 0.14159407 & 0.10388842 & 0.15740260 & 0.15      \\\\\n",
       "\t 5          & 0.11386469 & 0.11386469 & 0.09014085 & 0.14285714 & 0.10      \\\\\n",
       "\t 6          & 0.02772938 & 0.02772938 & 0.05089127 & 0.09090909 & 0.05      \\\\\n",
       "\\end{tabular}\n"
      ],
      "text/markdown": [
       "\n",
       "| Node | D1 | D2 | D3 | D4 | D5 |\n",
       "|---|---|---|---|---|---|\n",
       "| 1          | 0.21109175 | 0.22772938 | 0.15477969 | 0.21454545 | 0.25       |\n",
       "| 2          | 0.33663763 | 0.54159407 | 0.21067055 | 0.26857143 | 0.50       |\n",
       "| 3          | 0.12495644 | 0.14159407 | 0.10388842 | 0.15740260 | 0.15       |\n",
       "| 4          | 0.12495644 | 0.14159407 | 0.10388842 | 0.15740260 | 0.15       |\n",
       "| 5          | 0.11386469 | 0.11386469 | 0.09014085 | 0.14285714 | 0.10       |\n",
       "| 6          | 0.02772938 | 0.02772938 | 0.05089127 | 0.09090909 | 0.05       |\n",
       "\n"
      ],
      "text/plain": [
       "  Node D1         D2         D3         D4         D5  \n",
       "1 1    0.21109175 0.22772938 0.15477969 0.21454545 0.25\n",
       "2 2    0.33663763 0.54159407 0.21067055 0.26857143 0.50\n",
       "3 3    0.12495644 0.14159407 0.10388842 0.15740260 0.15\n",
       "4 4    0.12495644 0.14159407 0.10388842 0.15740260 0.15\n",
       "5 5    0.11386469 0.11386469 0.09014085 0.14285714 0.10\n",
       "6 6    0.02772938 0.02772938 0.05089127 0.09090909 0.05"
      ]
     },
     "metadata": {},
     "output_type": "display_data"
    }
   ],
   "source": [
    "# Metrics can be normalized giving the 'normalize' input variable as TRUE to allow comparison between different networks\n",
    "# normalize defaults to FALSE\n",
    "\n",
    "distinctiveness(g, normalize = TRUE)"
   ]
  },
  {
   "cell_type": "markdown",
   "id": "5111e4b7",
   "metadata": {},
   "source": [
    "# Directed Graphs"
   ]
  },
  {
   "cell_type": "code",
   "execution_count": 14,
   "id": "d28298cb",
   "metadata": {},
   "outputs": [
    {
     "data": {
      "image/png": "[encoded data removed]",
      "text/plain": [
       "Plot with title \"\""
      ]
     },
     "metadata": {},
     "output_type": "display_data"
    }
   ],
   "source": [
    "g_dir <- make_empty_graph(directed = TRUE) %>%\n",
    "  add_vertices(1, name = \"A\") %>%\n",
    "  add_vertices(1, name = \"B\") %>%\n",
    "  add_vertices(1, name = \"C\") %>%\n",
    "  add_vertices(1, name = \"D\") %>%\n",
    "  add_vertices(1, name = \"E\") %>%\n",
    "  add_vertices(1, name = \"F\")\n",
    "g_dir <- g_dir + edge(1, 5, weight = 5) + edge(1, 2, weight = 6) +\n",
    "  edge(2, 1, weight = 2) + edge(2, 6, weight = 5) + edge(2, 3, weight = 2) +\n",
    "  edge(2, 4, weight = 2) + edge(3, 4, weight = 3) + edge(4, 3, weight = 5)\n",
    "plot(g_dir, edge.width = E(g_dir)$weight)"
   ]
  },
  {
   "cell_type": "code",
   "execution_count": 15,
   "id": "5f382d30",
   "metadata": {
    "scrolled": true
   },
   "outputs": [
    {
     "data": {
      "text/html": [
       "<table>\n",
       "<thead><tr><th scope=col>Node</th><th scope=col>D1_IN</th><th scope=col>D1_OUT</th><th scope=col>D2_IN</th><th scope=col>D2_OUT</th><th scope=col>D3_IN</th><th scope=col>D3_OUT</th><th scope=col>D4_IN</th><th scope=col>D4_OUT</th><th scope=col>D5_IN</th><th scope=col>D5_OUT</th></tr></thead>\n",
       "<tbody>\n",
       "\t<tr><td>1          </td><td>-1.0103000 </td><td>7.6886700  </td><td>-0.50514998</td><td>1.39794001 </td><td>-0.1087153 </td><td>16.248334  </td><td>0.2162162  </td><td>11.000000  </td><td>0.0625     </td><td>2.00       </td></tr>\n",
       "\t<tr><td>2          </td><td> 0.5814601 </td><td>5.2804301  </td><td> 0.09691001</td><td>1.59176003 </td><td> 0.3728874 </td><td>11.418387  </td><td>3.5409836  </td><td> 7.891247  </td><td>0.2500     </td><td>2.50       </td></tr>\n",
       "\t<tr><td>3          </td><td> 2.4845501 </td><td>0.2907300  </td><td> 0.19382003</td><td>0.09691001 </td><td> 7.2768909 </td><td> 2.334454  </td><td>5.2162162  </td><td> 2.076923  </td><td>1.0625     </td><td>0.25       </td></tr>\n",
       "\t<tr><td>4          </td><td> 1.0866101 </td><td>0.4845501  </td><td> 0.19382003</td><td>0.09691001 </td><td> 4.3226484 </td><td> 3.890756  </td><td>3.2162162  </td><td> 4.310345  </td><td>1.0625     </td><td>0.25       </td></tr>\n",
       "\t<tr><td>5          </td><td> 0.4845501 </td><td>0.0000000  </td><td> 0.09691001</td><td>0.00000000 </td><td>-0.4554023 </td><td> 0.000000  </td><td>2.0491803  </td><td> 0.000000  </td><td>0.2500     </td><td>0.00       </td></tr>\n",
       "\t<tr><td>6          </td><td>-2.5257499 </td><td>0.0000000  </td><td>-0.50514998</td><td>0.00000000 </td><td> 1.8158895 </td><td> 0.000000  </td><td>3.3783784  </td><td> 0.000000  </td><td>0.0625     </td><td>0.00       </td></tr>\n",
       "</tbody>\n",
       "</table>\n"
      ],
      "text/latex": [
       "\\begin{tabular}{r|lllllllllll}\n",
       " Node & D1\\_IN & D1\\_OUT & D2\\_IN & D2\\_OUT & D3\\_IN & D3\\_OUT & D4\\_IN & D4\\_OUT & D5\\_IN & D5\\_OUT\\\\\n",
       "\\hline\n",
       "\t 1           & -1.0103000  & 7.6886700   & -0.50514998 & 1.39794001  & -0.1087153  & 16.248334   & 0.2162162   & 11.000000   & 0.0625      & 2.00       \\\\\n",
       "\t 2           &  0.5814601  & 5.2804301   &  0.09691001 & 1.59176003  &  0.3728874  & 11.418387   & 3.5409836   &  7.891247   & 0.2500      & 2.50       \\\\\n",
       "\t 3           &  2.4845501  & 0.2907300   &  0.19382003 & 0.09691001  &  7.2768909  &  2.334454   & 5.2162162   &  2.076923   & 1.0625      & 0.25       \\\\\n",
       "\t 4           &  1.0866101  & 0.4845501   &  0.19382003 & 0.09691001  &  4.3226484  &  3.890756   & 3.2162162   &  4.310345   & 1.0625      & 0.25       \\\\\n",
       "\t 5           &  0.4845501  & 0.0000000   &  0.09691001 & 0.00000000  & -0.4554023  &  0.000000   & 2.0491803   &  0.000000   & 0.2500      & 0.00       \\\\\n",
       "\t 6           & -2.5257499  & 0.0000000   & -0.50514998 & 0.00000000  &  1.8158895  &  0.000000   & 3.3783784   &  0.000000   & 0.0625      & 0.00       \\\\\n",
       "\\end{tabular}\n"
      ],
      "text/markdown": [
       "\n",
       "| Node | D1_IN | D1_OUT | D2_IN | D2_OUT | D3_IN | D3_OUT | D4_IN | D4_OUT | D5_IN | D5_OUT |\n",
       "|---|---|---|---|---|---|---|---|---|---|---|\n",
       "| 1           | -1.0103000  | 7.6886700   | -0.50514998 | 1.39794001  | -0.1087153  | 16.248334   | 0.2162162   | 11.000000   | 0.0625      | 2.00        |\n",
       "| 2           |  0.5814601  | 5.2804301   |  0.09691001 | 1.59176003  |  0.3728874  | 11.418387   | 3.5409836   |  7.891247   | 0.2500      | 2.50        |\n",
       "| 3           |  2.4845501  | 0.2907300   |  0.19382003 | 0.09691001  |  7.2768909  |  2.334454   | 5.2162162   |  2.076923   | 1.0625      | 0.25        |\n",
       "| 4           |  1.0866101  | 0.4845501   |  0.19382003 | 0.09691001  |  4.3226484  |  3.890756   | 3.2162162   |  4.310345   | 1.0625      | 0.25        |\n",
       "| 5           |  0.4845501  | 0.0000000   |  0.09691001 | 0.00000000  | -0.4554023  |  0.000000   | 2.0491803   |  0.000000   | 0.2500      | 0.00        |\n",
       "| 6           | -2.5257499  | 0.0000000   | -0.50514998 | 0.00000000  |  1.8158895  |  0.000000   | 3.3783784   |  0.000000   | 0.0625      | 0.00        |\n",
       "\n"
      ],
      "text/plain": [
       "  Node D1_IN      D1_OUT    D2_IN       D2_OUT     D3_IN      D3_OUT   \n",
       "1 1    -1.0103000 7.6886700 -0.50514998 1.39794001 -0.1087153 16.248334\n",
       "2 2     0.5814601 5.2804301  0.09691001 1.59176003  0.3728874 11.418387\n",
       "3 3     2.4845501 0.2907300  0.19382003 0.09691001  7.2768909  2.334454\n",
       "4 4     1.0866101 0.4845501  0.19382003 0.09691001  4.3226484  3.890756\n",
       "5 5     0.4845501 0.0000000  0.09691001 0.00000000 -0.4554023  0.000000\n",
       "6 6    -2.5257499 0.0000000 -0.50514998 0.00000000  1.8158895  0.000000\n",
       "  D4_IN     D4_OUT    D5_IN  D5_OUT\n",
       "1 0.2162162 11.000000 0.0625 2.00  \n",
       "2 3.5409836  7.891247 0.2500 2.50  \n",
       "3 5.2162162  2.076923 1.0625 0.25  \n",
       "4 3.2162162  4.310345 1.0625 0.25  \n",
       "5 2.0491803  0.000000 0.2500 0.00  \n",
       "6 3.3783784  0.000000 0.0625 0.00  "
      ]
     },
     "metadata": {},
     "output_type": "display_data"
    }
   ],
   "source": [
    "# In directed graphs, each metric has an '_IN' and '_OUT' suffix (see the docs)\n",
    "\n",
    "distinctiveness(g_dir, alpha = 2, normalize = FALSE)"
   ]
  }
 ],
 "metadata": {
  "kernelspec": {
   "display_name": "R",
   "language": "R",
   "name": "ir"
  },
  "language_info": {
   "codemirror_mode": "r",
   "file_extension": ".r",
   "mimetype": "text/x-r-source",
   "name": "R",
   "pygments_lexer": "r",
   "version": "3.6.1"
  }
 },
 "nbformat": 4,
 "nbformat_minor": 5
}
