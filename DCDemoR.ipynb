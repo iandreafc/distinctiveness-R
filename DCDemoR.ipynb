{
 "cells": [
  {
   "cell_type": "code",
   "execution_count": 4,
   "id": "22b1320f",
   "metadata": {},
   "outputs": [
    {
     "data": {
      "text/html": [
       "'C:/Users/IV/Desktop/UniPG/distinctiveness-R'"
      ],
      "text/latex": [
       "'C:/Users/IV/Desktop/UniPG/distinctiveness-R'"
      ],
      "text/markdown": [
       "'C:/Users/IV/Desktop/UniPG/distinctiveness-R'"
      ],
      "text/plain": [
       "[1] \"C:/Users/IV/Desktop/UniPG/distinctiveness-R\""
      ]
     },
     "metadata": {},
     "output_type": "display_data"
    },
    {
     "name": "stdout",
     "output_type": "stream",
     "text": [
      "\n",
      "  There is a binary version available but the source version is later:\n",
      "     binary source needs_compilation\n",
      "plyr  1.8.6  1.8.8              TRUE\n",
      "\n",
      "  Binaries will be installed\n"
     ]
    },
    {
     "name": "stderr",
     "output_type": "stream",
     "text": [
      "Warning message:\n",
      "\"package 'plyr' is in use and will not be installed\""
     ]
    }
   ],
   "source": [
    "# Import distinctiveness-R\n",
    "getwd()\n",
    "if(!require('igraph')) {\n",
    "    install.packages('igraph')\n",
    "    library('igraph')\n",
    "}\n",
    "# if(!require('tidyverse')) {\n",
    "#     install.packages('tidyverse')\n",
    "#     library('tidyverse')\n",
    "# }\n",
    "install.packages(\"plyr\")\n",
    "library(plyr)\n",
    "source(\"distinctiveness/dc.R\")"
   ]
  },
  {
   "cell_type": "markdown",
   "id": "fceef5b3",
   "metadata": {},
   "source": [
    "Undirected Graphs"
   ]
  },
  {
   "cell_type": "code",
   "execution_count": 5,
   "id": "850ae847",
   "metadata": {},
   "outputs": [
    {
     "data": {
      "image/png": "[encoded data removed]",
      "text/plain": [
       "Plot with title \"\""
      ]
     },
     "metadata": {},
     "output_type": "display_data"
    }
   ],
   "source": [
    "g <- make_empty_graph(directed = FALSE) %>%\n",
    "  add_vertices(1, name = \"A\") %>%\n",
    "  add_vertices(1, name = \"B\") %>%\n",
    "  add_vertices(1, name = \"C\") %>%\n",
    "  add_vertices(1, name = \"D\") %>%\n",
    "  add_vertices(1, name = \"E\") %>%\n",
    "  add_vertices(1, name = \"F\")\n",
    "g <- g + edge(1, 5, weight = 5) + edge(1, 2, weight = 2) + \n",
    "     edge(2, 6, weight = 5) + edge(2, 3, weight = 2) + \n",
    "     edge(2, 4, weight = 2) + edge(3, 4, weight = 5)\n",
    "plot(g, edge.width = E(g)$weight)"
   ]
  },
  {
   "cell_type": "code",
   "execution_count": 6,
   "id": "49a316c6",
   "metadata": {},
   "outputs": [
    {
     "data": {
      "text/html": [
       "<table>\n",
       "<thead><tr><th scope=col>Node</th><th scope=col>D1</th><th scope=col>D2</th><th scope=col>D3</th><th scope=col>D4</th><th scope=col>D5</th></tr></thead>\n",
       "<tbody>\n",
       "\t<tr><td>A         </td><td>3.6886700 </td><td>0.79588002</td><td>7.255535  </td><td>5.363636  </td><td>1.25      </td></tr>\n",
       "\t<tr><td>B         </td><td>5.8824901 </td><td>1.89279003</td><td>9.875505  </td><td>6.714286  </td><td>2.50      </td></tr>\n",
       "\t<tr><td>C         </td><td>2.1835201 </td><td>0.49485002</td><td>4.869929  </td><td>3.935065  </td><td>0.75      </td></tr>\n",
       "\t<tr><td>D         </td><td>2.1835201 </td><td>0.49485002</td><td>4.869929  </td><td>3.935065  </td><td>0.75      </td></tr>\n",
       "\t<tr><td>E         </td><td>1.9897000 </td><td>0.39794001</td><td>4.225490  </td><td>3.571429  </td><td>0.50      </td></tr>\n",
       "\t<tr><td>F         </td><td>0.4845501 </td><td>0.09691001</td><td>2.385606  </td><td>2.272727  </td><td>0.25      </td></tr>\n",
       "</tbody>\n",
       "</table>\n"
      ],
      "text/latex": [
       "\\begin{tabular}{r|llllll}\n",
       " Node & D1 & D2 & D3 & D4 & D5\\\\\n",
       "\\hline\n",
       "\t A          & 3.6886700  & 0.79588002 & 7.255535   & 5.363636   & 1.25      \\\\\n",
       "\t B          & 5.8824901  & 1.89279003 & 9.875505   & 6.714286   & 2.50      \\\\\n",
       "\t C          & 2.1835201  & 0.49485002 & 4.869929   & 3.935065   & 0.75      \\\\\n",
       "\t D          & 2.1835201  & 0.49485002 & 4.869929   & 3.935065   & 0.75      \\\\\n",
       "\t E          & 1.9897000  & 0.39794001 & 4.225490   & 3.571429   & 0.50      \\\\\n",
       "\t F          & 0.4845501  & 0.09691001 & 2.385606   & 2.272727   & 0.25      \\\\\n",
       "\\end{tabular}\n"
      ],
      "text/markdown": [
       "\n",
       "| Node | D1 | D2 | D3 | D4 | D5 |\n",
       "|---|---|---|---|---|---|\n",
       "| A          | 3.6886700  | 0.79588002 | 7.255535   | 5.363636   | 1.25       |\n",
       "| B          | 5.8824901  | 1.89279003 | 9.875505   | 6.714286   | 2.50       |\n",
       "| C          | 2.1835201  | 0.49485002 | 4.869929   | 3.935065   | 0.75       |\n",
       "| D          | 2.1835201  | 0.49485002 | 4.869929   | 3.935065   | 0.75       |\n",
       "| E          | 1.9897000  | 0.39794001 | 4.225490   | 3.571429   | 0.50       |\n",
       "| F          | 0.4845501  | 0.09691001 | 2.385606   | 2.272727   | 0.25       |\n",
       "\n"
      ],
      "text/plain": [
       "  Node D1        D2         D3       D4       D5  \n",
       "1 A    3.6886700 0.79588002 7.255535 5.363636 1.25\n",
       "2 B    5.8824901 1.89279003 9.875505 6.714286 2.50\n",
       "3 C    2.1835201 0.49485002 4.869929 3.935065 0.75\n",
       "4 D    2.1835201 0.49485002 4.869929 3.935065 0.75\n",
       "5 E    1.9897000 0.39794001 4.225490 3.571429 0.50\n",
       "6 F    0.4845501 0.09691001 2.385606 2.272727 0.25"
      ]
     },
     "metadata": {},
     "output_type": "display_data"
    }
   ],
   "source": [
    "d = distinctiveness(g, normalize = FALSE)\n",
    "d"
   ]
  },
  {
   "cell_type": "code",
   "execution_count": 94,
   "id": "c943464d",
   "metadata": {},
   "outputs": [
    {
     "data": {
      "text/html": [
       "<table>\n",
       "<thead><tr><th scope=col>Node</th><th scope=col>D1</th><th scope=col>D2</th><th scope=col>D3</th><th scope=col>D4</th><th scope=col>D5</th></tr></thead>\n",
       "<tbody>\n",
       "\t<tr><td>A          </td><td> 2.4845501 </td><td> 0.19382003</td><td>6.192577   </td><td>5.216216   </td><td>1.0625     </td></tr>\n",
       "\t<tr><td>B          </td><td> 4.0763101 </td><td> 0.98970004</td><td>6.054572   </td><td>5.827586   </td><td>1.7500     </td></tr>\n",
       "\t<tr><td>C          </td><td>-0.5257499 </td><td>-0.40823997</td><td>2.697727   </td><td>4.526561   </td><td>0.3125     </td></tr>\n",
       "\t<tr><td>D          </td><td>-0.5257499 </td><td>-0.40823997</td><td>2.697727   </td><td>4.526561   </td><td>0.3125     </td></tr>\n",
       "\t<tr><td>E          </td><td> 0.4845501 </td><td> 0.09691001</td><td>3.116246   </td><td>4.310345   </td><td>0.2500     </td></tr>\n",
       "\t<tr><td>F          </td><td>-2.5257499 </td><td>-0.50514998</td><td>1.041380   </td><td>3.378378   </td><td>0.0625     </td></tr>\n",
       "</tbody>\n",
       "</table>\n"
      ],
      "text/latex": [
       "\\begin{tabular}{r|llllll}\n",
       " Node & D1 & D2 & D3 & D4 & D5\\\\\n",
       "\\hline\n",
       "\t A           &  2.4845501  &  0.19382003 & 6.192577    & 5.216216    & 1.0625     \\\\\n",
       "\t B           &  4.0763101  &  0.98970004 & 6.054572    & 5.827586    & 1.7500     \\\\\n",
       "\t C           & -0.5257499  & -0.40823997 & 2.697727    & 4.526561    & 0.3125     \\\\\n",
       "\t D           & -0.5257499  & -0.40823997 & 2.697727    & 4.526561    & 0.3125     \\\\\n",
       "\t E           &  0.4845501  &  0.09691001 & 3.116246    & 4.310345    & 0.2500     \\\\\n",
       "\t F           & -2.5257499  & -0.50514998 & 1.041380    & 3.378378    & 0.0625     \\\\\n",
       "\\end{tabular}\n"
      ],
      "text/markdown": [
       "\n",
       "| Node | D1 | D2 | D3 | D4 | D5 |\n",
       "|---|---|---|---|---|---|\n",
       "| A           |  2.4845501  |  0.19382003 | 6.192577    | 5.216216    | 1.0625      |\n",
       "| B           |  4.0763101  |  0.98970004 | 6.054572    | 5.827586    | 1.7500      |\n",
       "| C           | -0.5257499  | -0.40823997 | 2.697727    | 4.526561    | 0.3125      |\n",
       "| D           | -0.5257499  | -0.40823997 | 2.697727    | 4.526561    | 0.3125      |\n",
       "| E           |  0.4845501  |  0.09691001 | 3.116246    | 4.310345    | 0.2500      |\n",
       "| F           | -2.5257499  | -0.50514998 | 1.041380    | 3.378378    | 0.0625      |\n",
       "\n"
      ],
      "text/plain": [
       "  Node D1         D2          D3       D4       D5    \n",
       "1 A     2.4845501  0.19382003 6.192577 5.216216 1.0625\n",
       "2 B     4.0763101  0.98970004 6.054572 5.827586 1.7500\n",
       "3 C    -0.5257499 -0.40823997 2.697727 4.526561 0.3125\n",
       "4 D    -0.5257499 -0.40823997 2.697727 4.526561 0.3125\n",
       "5 E     0.4845501  0.09691001 3.116246 4.310345 0.2500\n",
       "6 F    -2.5257499 -0.50514998 1.041380 3.378378 0.0625"
      ]
     },
     "metadata": {},
     "output_type": "display_data"
    }
   ],
   "source": [
    "distinctiveness(g, alpha = 2)"
   ]
  },
  {
   "cell_type": "code",
   "execution_count": 8,
   "id": "20b2e0ea",
   "metadata": {},
   "outputs": [
    {
     "data": {
      "text/html": [
       "<table>\n",
       "<thead><tr><th scope=col>Node</th><th scope=col>D1</th><th scope=col>D2</th><th scope=col>D3</th><th scope=col>D4</th><th scope=col>D5</th></tr></thead>\n",
       "<tbody>\n",
       "\t<tr><td>A           </td><td>3.6886700   </td><td> 0.19382003 </td><td> 4.9509584  </td><td>5.047548    </td><td>1.0009765625</td></tr>\n",
       "\t<tr><td>B           </td><td>5.8824901   </td><td> 0.98970004 </td><td> 1.9421890  </td><td>5.149766    </td><td>1.0937500000</td></tr>\n",
       "\t<tr><td>C           </td><td>2.1835201   </td><td>-0.40823997 </td><td> 0.1797458  </td><td>4.922743    </td><td>0.0322265625</td></tr>\n",
       "\t<tr><td>D           </td><td>2.1835201   </td><td>-0.40823997 </td><td> 0.1797458  </td><td>4.922743    </td><td>0.0322265625</td></tr>\n",
       "\t<tr><td>E           </td><td>1.9897000   </td><td> 0.09691001 </td><td> 1.8398839  </td><td>4.875195    </td><td>0.0312500000</td></tr>\n",
       "\t<tr><td>F           </td><td>0.4845501   </td><td>-0.50514998 </td><td>-0.3786036  </td><td>4.643388    </td><td>0.0009765625</td></tr>\n",
       "</tbody>\n",
       "</table>\n"
      ],
      "text/latex": [
       "\\begin{tabular}{r|llllll}\n",
       " Node & D1 & D2 & D3 & D4 & D5\\\\\n",
       "\\hline\n",
       "\t A            & 3.6886700    &  0.19382003  &  4.9509584   & 5.047548     & 1.0009765625\\\\\n",
       "\t B            & 5.8824901    &  0.98970004  &  1.9421890   & 5.149766     & 1.0937500000\\\\\n",
       "\t C            & 2.1835201    & -0.40823997  &  0.1797458   & 4.922743     & 0.0322265625\\\\\n",
       "\t D            & 2.1835201    & -0.40823997  &  0.1797458   & 4.922743     & 0.0322265625\\\\\n",
       "\t E            & 1.9897000    &  0.09691001  &  1.8398839   & 4.875195     & 0.0312500000\\\\\n",
       "\t F            & 0.4845501    & -0.50514998  & -0.3786036   & 4.643388     & 0.0009765625\\\\\n",
       "\\end{tabular}\n"
      ],
      "text/markdown": [
       "\n",
       "| Node | D1 | D2 | D3 | D4 | D5 |\n",
       "|---|---|---|---|---|---|\n",
       "| A            | 3.6886700    |  0.19382003  |  4.9509584   | 5.047548     | 1.0009765625 |\n",
       "| B            | 5.8824901    |  0.98970004  |  1.9421890   | 5.149766     | 1.0937500000 |\n",
       "| C            | 2.1835201    | -0.40823997  |  0.1797458   | 4.922743     | 0.0322265625 |\n",
       "| D            | 2.1835201    | -0.40823997  |  0.1797458   | 4.922743     | 0.0322265625 |\n",
       "| E            | 1.9897000    |  0.09691001  |  1.8398839   | 4.875195     | 0.0312500000 |\n",
       "| F            | 0.4845501    | -0.50514998  | -0.3786036   | 4.643388     | 0.0009765625 |\n",
       "\n"
      ],
      "text/plain": [
       "  Node D1        D2          D3         D4       D5          \n",
       "1 A    3.6886700  0.19382003  4.9509584 5.047548 1.0009765625\n",
       "2 B    5.8824901  0.98970004  1.9421890 5.149766 1.0937500000\n",
       "3 C    2.1835201 -0.40823997  0.1797458 4.922743 0.0322265625\n",
       "4 D    2.1835201 -0.40823997  0.1797458 4.922743 0.0322265625\n",
       "5 E    1.9897000  0.09691001  1.8398839 4.875195 0.0312500000\n",
       "6 F    0.4845501 -0.50514998 -0.3786036 4.643388 0.0009765625"
      ]
     },
     "metadata": {},
     "output_type": "display_data"
    }
   ],
   "source": [
    "distinctiveness(g, alpha = list(1, 2, 3, 4, 5))"
   ]
  },
  {
   "cell_type": "code",
   "execution_count": 12,
   "id": "e9eeb058",
   "metadata": {},
   "outputs": [
    {
     "data": {
      "text/html": [
       "<table>\n",
       "<thead><tr><th scope=col>Node</th><th scope=col>D1</th><th scope=col>D2</th><th scope=col>D3</th><th scope=col>D4</th><th scope=col>D5</th></tr></thead>\n",
       "<tbody>\n",
       "\t<tr><td>A        </td><td>0.5710918</td><td>NaN      </td><td>NaN      </td><td>NaN      </td><td>NaN      </td></tr>\n",
       "\t<tr><td>B        </td><td>0.6166376</td><td>NaN      </td><td>NaN      </td><td>NaN      </td><td>NaN      </td></tr>\n",
       "\t<tr><td>C        </td><td>0.4849564</td><td>NaN      </td><td>NaN      </td><td>NaN      </td><td>NaN      </td></tr>\n",
       "\t<tr><td>D        </td><td>0.4849564</td><td>NaN      </td><td>NaN      </td><td>NaN      </td><td>NaN      </td></tr>\n",
       "\t<tr><td>E        </td><td>0.5138647</td><td>NaN      </td><td>NaN      </td><td>NaN      </td><td>NaN      </td></tr>\n",
       "\t<tr><td>F        </td><td>0.4277294</td><td>NaN      </td><td>NaN      </td><td>NaN      </td><td>NaN      </td></tr>\n",
       "</tbody>\n",
       "</table>\n"
      ],
      "text/latex": [
       "\\begin{tabular}{r|llllll}\n",
       " Node & D1 & D2 & D3 & D4 & D5\\\\\n",
       "\\hline\n",
       "\t A         & 0.5710918 & NaN       & NaN       & NaN       & NaN      \\\\\n",
       "\t B         & 0.6166376 & NaN       & NaN       & NaN       & NaN      \\\\\n",
       "\t C         & 0.4849564 & NaN       & NaN       & NaN       & NaN      \\\\\n",
       "\t D         & 0.4849564 & NaN       & NaN       & NaN       & NaN      \\\\\n",
       "\t E         & 0.5138647 & NaN       & NaN       & NaN       & NaN      \\\\\n",
       "\t F         & 0.4277294 & NaN       & NaN       & NaN       & NaN      \\\\\n",
       "\\end{tabular}\n"
      ],
      "text/markdown": [
       "\n",
       "| Node | D1 | D2 | D3 | D4 | D5 |\n",
       "|---|---|---|---|---|---|\n",
       "| A         | 0.5710918 | NaN       | NaN       | NaN       | NaN       |\n",
       "| B         | 0.6166376 | NaN       | NaN       | NaN       | NaN       |\n",
       "| C         | 0.4849564 | NaN       | NaN       | NaN       | NaN       |\n",
       "| D         | 0.4849564 | NaN       | NaN       | NaN       | NaN       |\n",
       "| E         | 0.5138647 | NaN       | NaN       | NaN       | NaN       |\n",
       "| F         | 0.4277294 | NaN       | NaN       | NaN       | NaN       |\n",
       "\n"
      ],
      "text/plain": [
       "  Node D1        D2  D3  D4  D5 \n",
       "1 A    0.5710918 NaN NaN NaN NaN\n",
       "2 B    0.6166376 NaN NaN NaN NaN\n",
       "3 C    0.4849564 NaN NaN NaN NaN\n",
       "4 D    0.4849564 NaN NaN NaN NaN\n",
       "5 E    0.5138647 NaN NaN NaN NaN\n",
       "6 F    0.4277294 NaN NaN NaN NaN"
      ]
     },
     "metadata": {},
     "output_type": "display_data"
    }
   ],
   "source": [
    "d = distinctiveness(g, alpha = 2, measures = c(\"D1\"), normalize = TRUE)\n",
    "d"
   ]
  },
  {
   "cell_type": "markdown",
   "id": "5111e4b7",
   "metadata": {},
   "source": [
    "Directed Graphs"
   ]
  },
  {
   "cell_type": "code",
   "execution_count": 15,
   "id": "d28298cb",
   "metadata": {},
   "outputs": [
    {
     "data": {
      "image/png": "[encoded data removed]",
      "text/plain": [
       "Plot with title \"\""
      ]
     },
     "metadata": {},
     "output_type": "display_data"
    }
   ],
   "source": [
    "g_dir <- make_empty_graph(directed = TRUE) %>%\n",
    "  add_vertices(1, name = \"A\") %>%\n",
    "  add_vertices(1, name = \"B\") %>%\n",
    "  add_vertices(1, name = \"C\") %>%\n",
    "  add_vertices(1, name = \"D\") %>%\n",
    "  add_vertices(1, name = \"E\") %>%\n",
    "  add_vertices(1, name = \"F\")\n",
    "g_dir <- g_dir + edge(1, 5, weight = 5) + edge(1, 2, weight = 6) +\n",
    "  edge(2, 1, weight = 2) + edge(2, 6, weight = 5) + edge(2, 3, weight = 2) +\n",
    "  edge(2, 4, weight = 2) + edge(3, 4, weight = 3) + edge(4, 3, weight = 5)\n",
    "plot(g_dir, edge.width = E(g_dir)$weight)"
   ]
  },
  {
   "cell_type": "code",
   "execution_count": 16,
   "id": "5f382d30",
   "metadata": {
    "scrolled": true
   },
   "outputs": [
    {
     "data": {
      "text/html": [
       "<table>\n",
       "<thead><tr><th scope=col>Node</th><th scope=col>D1_IN</th><th scope=col>D2_IN</th><th scope=col>D3_IN</th><th scope=col>D4_IN</th><th scope=col>D5_IN</th><th scope=col>D1_OUT</th><th scope=col>D2_OUT</th><th scope=col>D3_OUT</th><th scope=col>D4_OUT</th><th scope=col>D5_OUT</th></tr></thead>\n",
       "<tbody>\n",
       "\t<tr><td>A          </td><td>-1.0103000 </td><td>-0.50514998</td><td>-0.1087153 </td><td>0.2162162  </td><td>0.0625     </td><td>7.6886700  </td><td>1.39794001 </td><td>16.248334  </td><td>11.000000  </td><td>2.00       </td></tr>\n",
       "\t<tr><td>B          </td><td> 0.5814601 </td><td> 0.09691001</td><td> 0.3728874 </td><td>3.5409836  </td><td>0.2500     </td><td>5.2804301  </td><td>1.59176003 </td><td>11.418387  </td><td> 7.891247  </td><td>2.50       </td></tr>\n",
       "\t<tr><td>C          </td><td> 2.4845501 </td><td> 0.19382003</td><td> 7.2768909 </td><td>5.2162162  </td><td>1.0625     </td><td>0.2907300  </td><td>0.09691001 </td><td> 2.334454  </td><td> 2.076923  </td><td>0.25       </td></tr>\n",
       "\t<tr><td>D          </td><td> 1.0866101 </td><td> 0.19382003</td><td> 4.3226484 </td><td>3.2162162  </td><td>1.0625     </td><td>0.4845501  </td><td>0.09691001 </td><td> 3.890756  </td><td> 4.310345  </td><td>0.25       </td></tr>\n",
       "\t<tr><td>E          </td><td> 0.4845501 </td><td> 0.09691001</td><td>-0.4554023 </td><td>2.0491803  </td><td>0.2500     </td><td>0.0000000  </td><td>0.00000000 </td><td> 0.000000  </td><td> 0.000000  </td><td>0.00       </td></tr>\n",
       "\t<tr><td>F          </td><td>-2.5257499 </td><td>-0.50514998</td><td> 1.8158895 </td><td>3.3783784  </td><td>0.0625     </td><td>0.0000000  </td><td>0.00000000 </td><td> 0.000000  </td><td> 0.000000  </td><td>0.00       </td></tr>\n",
       "</tbody>\n",
       "</table>\n"
      ],
      "text/latex": [
       "\\begin{tabular}{r|lllllllllll}\n",
       " Node & D1\\_IN & D2\\_IN & D3\\_IN & D4\\_IN & D5\\_IN & D1\\_OUT & D2\\_OUT & D3\\_OUT & D4\\_OUT & D5\\_OUT\\\\\n",
       "\\hline\n",
       "\t A           & -1.0103000  & -0.50514998 & -0.1087153  & 0.2162162   & 0.0625      & 7.6886700   & 1.39794001  & 16.248334   & 11.000000   & 2.00       \\\\\n",
       "\t B           &  0.5814601  &  0.09691001 &  0.3728874  & 3.5409836   & 0.2500      & 5.2804301   & 1.59176003  & 11.418387   &  7.891247   & 2.50       \\\\\n",
       "\t C           &  2.4845501  &  0.19382003 &  7.2768909  & 5.2162162   & 1.0625      & 0.2907300   & 0.09691001  &  2.334454   &  2.076923   & 0.25       \\\\\n",
       "\t D           &  1.0866101  &  0.19382003 &  4.3226484  & 3.2162162   & 1.0625      & 0.4845501   & 0.09691001  &  3.890756   &  4.310345   & 0.25       \\\\\n",
       "\t E           &  0.4845501  &  0.09691001 & -0.4554023  & 2.0491803   & 0.2500      & 0.0000000   & 0.00000000  &  0.000000   &  0.000000   & 0.00       \\\\\n",
       "\t F           & -2.5257499  & -0.50514998 &  1.8158895  & 3.3783784   & 0.0625      & 0.0000000   & 0.00000000  &  0.000000   &  0.000000   & 0.00       \\\\\n",
       "\\end{tabular}\n"
      ],
      "text/markdown": [
       "\n",
       "| Node | D1_IN | D2_IN | D3_IN | D4_IN | D5_IN | D1_OUT | D2_OUT | D3_OUT | D4_OUT | D5_OUT |\n",
       "|---|---|---|---|---|---|---|---|---|---|---|\n",
       "| A           | -1.0103000  | -0.50514998 | -0.1087153  | 0.2162162   | 0.0625      | 7.6886700   | 1.39794001  | 16.248334   | 11.000000   | 2.00        |\n",
       "| B           |  0.5814601  |  0.09691001 |  0.3728874  | 3.5409836   | 0.2500      | 5.2804301   | 1.59176003  | 11.418387   |  7.891247   | 2.50        |\n",
       "| C           |  2.4845501  |  0.19382003 |  7.2768909  | 5.2162162   | 1.0625      | 0.2907300   | 0.09691001  |  2.334454   |  2.076923   | 0.25        |\n",
       "| D           |  1.0866101  |  0.19382003 |  4.3226484  | 3.2162162   | 1.0625      | 0.4845501   | 0.09691001  |  3.890756   |  4.310345   | 0.25        |\n",
       "| E           |  0.4845501  |  0.09691001 | -0.4554023  | 2.0491803   | 0.2500      | 0.0000000   | 0.00000000  |  0.000000   |  0.000000   | 0.00        |\n",
       "| F           | -2.5257499  | -0.50514998 |  1.8158895  | 3.3783784   | 0.0625      | 0.0000000   | 0.00000000  |  0.000000   |  0.000000   | 0.00        |\n",
       "\n"
      ],
      "text/plain": [
       "  Node D1_IN      D2_IN       D3_IN      D4_IN     D5_IN  D1_OUT    D2_OUT    \n",
       "1 A    -1.0103000 -0.50514998 -0.1087153 0.2162162 0.0625 7.6886700 1.39794001\n",
       "2 B     0.5814601  0.09691001  0.3728874 3.5409836 0.2500 5.2804301 1.59176003\n",
       "3 C     2.4845501  0.19382003  7.2768909 5.2162162 1.0625 0.2907300 0.09691001\n",
       "4 D     1.0866101  0.19382003  4.3226484 3.2162162 1.0625 0.4845501 0.09691001\n",
       "5 E     0.4845501  0.09691001 -0.4554023 2.0491803 0.2500 0.0000000 0.00000000\n",
       "6 F    -2.5257499 -0.50514998  1.8158895 3.3783784 0.0625 0.0000000 0.00000000\n",
       "  D3_OUT    D4_OUT    D5_OUT\n",
       "1 16.248334 11.000000 2.00  \n",
       "2 11.418387  7.891247 2.50  \n",
       "3  2.334454  2.076923 0.25  \n",
       "4  3.890756  4.310345 0.25  \n",
       "5  0.000000  0.000000 0.00  \n",
       "6  0.000000  0.000000 0.00  "
      ]
     },
     "metadata": {},
     "output_type": "display_data"
    }
   ],
   "source": [
    "dc = distinctiveness(g_dir, alpha = 2, normalize = FALSE)\n",
    "dc"
   ]
  }
 ],
 "metadata": {
  "kernelspec": {
   "display_name": "R",
   "language": "R",
   "name": "ir"
  },
  "language_info": {
   "codemirror_mode": "r",
   "file_extension": ".r",
   "mimetype": "text/x-r-source",
   "name": "R",
   "pygments_lexer": "r",
   "version": "3.6.1"
  }
 },
 "nbformat": 4,
 "nbformat_minor": 5
}
