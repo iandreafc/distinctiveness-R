{
 "cells": [
  {
   "cell_type": "code",
   "execution_count": 91,
   "id": "22b1320f",
   "metadata": {},
   "outputs": [
    {
     "data": {
      "text/html": [
       "'C:/Users/IV/Desktop/UniPG/distinctiveness-R/distinctiveness'"
      ],
      "text/latex": [
       "'C:/Users/IV/Desktop/UniPG/distinctiveness-R/distinctiveness'"
      ],
      "text/markdown": [
       "'C:/Users/IV/Desktop/UniPG/distinctiveness-R/distinctiveness'"
      ],
      "text/plain": [
       "[1] \"C:/Users/IV/Desktop/UniPG/distinctiveness-R/distinctiveness\""
      ]
     },
     "metadata": {},
     "output_type": "display_data"
    },
    {
     "name": "stdout",
     "output_type": "stream",
     "text": [
      "\n",
      "  There is a binary version available but the source version is later:\n",
      "     binary source needs_compilation\n",
      "plyr  1.8.6  1.8.8              TRUE\n",
      "\n",
      "  Binaries will be installed\n"
     ]
    },
    {
     "name": "stderr",
     "output_type": "stream",
     "text": [
      "Warning message:\n",
      "\"package 'plyr' is in use and will not be installed\""
     ]
    }
   ],
   "source": [
    "# Import distinctiveness-R\n",
    "getwd()\n",
    "if(!require('igraph')) {\n",
    "    install.packages('igraph')\n",
    "    library('igraph')\n",
    "}\n",
    "# if(!require('tidyverse')) {\n",
    "#     install.packages('tidyverse')\n",
    "#     library('tidyverse')\n",
    "# }\n",
    "install.packages(\"plyr\")\n",
    "library(plyr)\n",
    "source(\"dc.R\")"
   ]
  },
  {
   "cell_type": "code",
   "execution_count": 92,
   "id": "850ae847",
   "metadata": {},
   "outputs": [
    {
     "data": {
      "image/png": "[encoded data removed]",
      "text/plain": [
       "Plot with title \"\""
      ]
     },
     "metadata": {},
     "output_type": "display_data"
    }
   ],
   "source": [
    "g <- make_empty_graph(directed = FALSE) %>%\n",
    "  add_vertices(1, name = \"A\") %>%\n",
    "  add_vertices(1, name = \"B\") %>%\n",
    "  add_vertices(1, name = \"C\") %>%\n",
    "  add_vertices(1, name = \"D\") %>%\n",
    "  add_vertices(1, name = \"E\") %>%\n",
    "  add_vertices(1, name = \"F\")\n",
    "g <- g + edge(1, 5, weight = 5) + edge(1, 2, weight = 2) + \n",
    "     edge(2, 6, weight = 5) + edge(2, 3, weight = 2) + \n",
    "     edge(2, 4, weight = 2) + edge(3, 4, weight = 5)\n",
    "plot(g, edge.width = E(g)$weight)"
   ]
  },
  {
   "cell_type": "code",
   "execution_count": 93,
   "id": "49a316c6",
   "metadata": {},
   "outputs": [
    {
     "data": {
      "text/html": [
       "<table>\n",
       "<thead><tr><th scope=col>Node</th><th scope=col>D1</th><th scope=col>D2</th><th scope=col>D3</th><th scope=col>D4</th><th scope=col>D5</th></tr></thead>\n",
       "<tbody>\n",
       "\t<tr><td>A         </td><td>0.21109175</td><td>0.22772938</td><td>0.15477969</td><td>0.21454545</td><td>0.25      </td></tr>\n",
       "\t<tr><td>B         </td><td>0.33663763</td><td>0.54159407</td><td>0.21067055</td><td>0.26857143</td><td>0.50      </td></tr>\n",
       "\t<tr><td>C         </td><td>0.12495644</td><td>0.14159407</td><td>0.10388842</td><td>0.15740260</td><td>0.15      </td></tr>\n",
       "\t<tr><td>D         </td><td>0.12495644</td><td>0.14159407</td><td>0.10388842</td><td>0.15740260</td><td>0.15      </td></tr>\n",
       "\t<tr><td>E         </td><td>0.11386469</td><td>0.11386469</td><td>0.09014085</td><td>0.14285714</td><td>0.10      </td></tr>\n",
       "\t<tr><td>F         </td><td>0.02772938</td><td>0.02772938</td><td>0.05089127</td><td>0.09090909</td><td>0.05      </td></tr>\n",
       "</tbody>\n",
       "</table>\n"
      ],
      "text/latex": [
       "\\begin{tabular}{r|llllll}\n",
       " Node & D1 & D2 & D3 & D4 & D5\\\\\n",
       "\\hline\n",
       "\t A          & 0.21109175 & 0.22772938 & 0.15477969 & 0.21454545 & 0.25      \\\\\n",
       "\t B          & 0.33663763 & 0.54159407 & 0.21067055 & 0.26857143 & 0.50      \\\\\n",
       "\t C          & 0.12495644 & 0.14159407 & 0.10388842 & 0.15740260 & 0.15      \\\\\n",
       "\t D          & 0.12495644 & 0.14159407 & 0.10388842 & 0.15740260 & 0.15      \\\\\n",
       "\t E          & 0.11386469 & 0.11386469 & 0.09014085 & 0.14285714 & 0.10      \\\\\n",
       "\t F          & 0.02772938 & 0.02772938 & 0.05089127 & 0.09090909 & 0.05      \\\\\n",
       "\\end{tabular}\n"
      ],
      "text/markdown": [
       "\n",
       "| Node | D1 | D2 | D3 | D4 | D5 |\n",
       "|---|---|---|---|---|---|\n",
       "| A          | 0.21109175 | 0.22772938 | 0.15477969 | 0.21454545 | 0.25       |\n",
       "| B          | 0.33663763 | 0.54159407 | 0.21067055 | 0.26857143 | 0.50       |\n",
       "| C          | 0.12495644 | 0.14159407 | 0.10388842 | 0.15740260 | 0.15       |\n",
       "| D          | 0.12495644 | 0.14159407 | 0.10388842 | 0.15740260 | 0.15       |\n",
       "| E          | 0.11386469 | 0.11386469 | 0.09014085 | 0.14285714 | 0.10       |\n",
       "| F          | 0.02772938 | 0.02772938 | 0.05089127 | 0.09090909 | 0.05       |\n",
       "\n"
      ],
      "text/plain": [
       "  Node D1         D2         D3         D4         D5  \n",
       "1 A    0.21109175 0.22772938 0.15477969 0.21454545 0.25\n",
       "2 B    0.33663763 0.54159407 0.21067055 0.26857143 0.50\n",
       "3 C    0.12495644 0.14159407 0.10388842 0.15740260 0.15\n",
       "4 D    0.12495644 0.14159407 0.10388842 0.15740260 0.15\n",
       "5 E    0.11386469 0.11386469 0.09014085 0.14285714 0.10\n",
       "6 F    0.02772938 0.02772938 0.05089127 0.09090909 0.05"
      ]
     },
     "metadata": {},
     "output_type": "display_data"
    }
   ],
   "source": [
    "d = distinctiveness(g, normalize = TRUE)\n",
    "d"
   ]
  },
  {
   "cell_type": "code",
   "execution_count": 94,
   "id": "c943464d",
   "metadata": {},
   "outputs": [
    {
     "data": {
      "text/html": [
       "<table>\n",
       "<thead><tr><th scope=col>Node</th><th scope=col>D1</th><th scope=col>D2</th><th scope=col>D3</th><th scope=col>D4</th><th scope=col>D5</th></tr></thead>\n",
       "<tbody>\n",
       "\t<tr><td>A          </td><td> 2.4845501 </td><td> 0.19382003</td><td>6.192577   </td><td>5.216216   </td><td>1.0625     </td></tr>\n",
       "\t<tr><td>B          </td><td> 4.0763101 </td><td> 0.98970004</td><td>6.054572   </td><td>5.827586   </td><td>1.7500     </td></tr>\n",
       "\t<tr><td>C          </td><td>-0.5257499 </td><td>-0.40823997</td><td>2.697727   </td><td>4.526561   </td><td>0.3125     </td></tr>\n",
       "\t<tr><td>D          </td><td>-0.5257499 </td><td>-0.40823997</td><td>2.697727   </td><td>4.526561   </td><td>0.3125     </td></tr>\n",
       "\t<tr><td>E          </td><td> 0.4845501 </td><td> 0.09691001</td><td>3.116246   </td><td>4.310345   </td><td>0.2500     </td></tr>\n",
       "\t<tr><td>F          </td><td>-2.5257499 </td><td>-0.50514998</td><td>1.041380   </td><td>3.378378   </td><td>0.0625     </td></tr>\n",
       "</tbody>\n",
       "</table>\n"
      ],
      "text/latex": [
       "\\begin{tabular}{r|llllll}\n",
       " Node & D1 & D2 & D3 & D4 & D5\\\\\n",
       "\\hline\n",
       "\t A           &  2.4845501  &  0.19382003 & 6.192577    & 5.216216    & 1.0625     \\\\\n",
       "\t B           &  4.0763101  &  0.98970004 & 6.054572    & 5.827586    & 1.7500     \\\\\n",
       "\t C           & -0.5257499  & -0.40823997 & 2.697727    & 4.526561    & 0.3125     \\\\\n",
       "\t D           & -0.5257499  & -0.40823997 & 2.697727    & 4.526561    & 0.3125     \\\\\n",
       "\t E           &  0.4845501  &  0.09691001 & 3.116246    & 4.310345    & 0.2500     \\\\\n",
       "\t F           & -2.5257499  & -0.50514998 & 1.041380    & 3.378378    & 0.0625     \\\\\n",
       "\\end{tabular}\n"
      ],
      "text/markdown": [
       "\n",
       "| Node | D1 | D2 | D3 | D4 | D5 |\n",
       "|---|---|---|---|---|---|\n",
       "| A           |  2.4845501  |  0.19382003 | 6.192577    | 5.216216    | 1.0625      |\n",
       "| B           |  4.0763101  |  0.98970004 | 6.054572    | 5.827586    | 1.7500      |\n",
       "| C           | -0.5257499  | -0.40823997 | 2.697727    | 4.526561    | 0.3125      |\n",
       "| D           | -0.5257499  | -0.40823997 | 2.697727    | 4.526561    | 0.3125      |\n",
       "| E           |  0.4845501  |  0.09691001 | 3.116246    | 4.310345    | 0.2500      |\n",
       "| F           | -2.5257499  | -0.50514998 | 1.041380    | 3.378378    | 0.0625      |\n",
       "\n"
      ],
      "text/plain": [
       "  Node D1         D2          D3       D4       D5    \n",
       "1 A     2.4845501  0.19382003 6.192577 5.216216 1.0625\n",
       "2 B     4.0763101  0.98970004 6.054572 5.827586 1.7500\n",
       "3 C    -0.5257499 -0.40823997 2.697727 4.526561 0.3125\n",
       "4 D    -0.5257499 -0.40823997 2.697727 4.526561 0.3125\n",
       "5 E     0.4845501  0.09691001 3.116246 4.310345 0.2500\n",
       "6 F    -2.5257499 -0.50514998 1.041380 3.378378 0.0625"
      ]
     },
     "metadata": {},
     "output_type": "display_data"
    }
   ],
   "source": [
    "distinctiveness(g, alpha = 2)"
   ]
  },
  {
   "cell_type": "code",
   "execution_count": 95,
   "id": "e9eeb058",
   "metadata": {},
   "outputs": [
    {
     "data": {
      "text/html": [
       "<table>\n",
       "<thead><tr><th scope=col>Node</th><th scope=col>D1</th><th scope=col>D2</th><th scope=col>D3</th><th scope=col>D4</th><th scope=col>D5</th></tr></thead>\n",
       "<tbody>\n",
       "\t<tr><td>A         </td><td> 2.4845501</td><td>NaN       </td><td>NaN       </td><td>NaN       </td><td>NaN       </td></tr>\n",
       "\t<tr><td>B         </td><td> 4.0763101</td><td>NaN       </td><td>NaN       </td><td>NaN       </td><td>NaN       </td></tr>\n",
       "\t<tr><td>C         </td><td>-0.5257499</td><td>NaN       </td><td>NaN       </td><td>NaN       </td><td>NaN       </td></tr>\n",
       "\t<tr><td>D         </td><td>-0.5257499</td><td>NaN       </td><td>NaN       </td><td>NaN       </td><td>NaN       </td></tr>\n",
       "\t<tr><td>E         </td><td> 0.4845501</td><td>NaN       </td><td>NaN       </td><td>NaN       </td><td>NaN       </td></tr>\n",
       "\t<tr><td>F         </td><td>-2.5257499</td><td>NaN       </td><td>NaN       </td><td>NaN       </td><td>NaN       </td></tr>\n",
       "</tbody>\n",
       "</table>\n"
      ],
      "text/latex": [
       "\\begin{tabular}{r|llllll}\n",
       " Node & D1 & D2 & D3 & D4 & D5\\\\\n",
       "\\hline\n",
       "\t A          &  2.4845501 & NaN        & NaN        & NaN        & NaN       \\\\\n",
       "\t B          &  4.0763101 & NaN        & NaN        & NaN        & NaN       \\\\\n",
       "\t C          & -0.5257499 & NaN        & NaN        & NaN        & NaN       \\\\\n",
       "\t D          & -0.5257499 & NaN        & NaN        & NaN        & NaN       \\\\\n",
       "\t E          &  0.4845501 & NaN        & NaN        & NaN        & NaN       \\\\\n",
       "\t F          & -2.5257499 & NaN        & NaN        & NaN        & NaN       \\\\\n",
       "\\end{tabular}\n"
      ],
      "text/markdown": [
       "\n",
       "| Node | D1 | D2 | D3 | D4 | D5 |\n",
       "|---|---|---|---|---|---|\n",
       "| A          |  2.4845501 | NaN        | NaN        | NaN        | NaN        |\n",
       "| B          |  4.0763101 | NaN        | NaN        | NaN        | NaN        |\n",
       "| C          | -0.5257499 | NaN        | NaN        | NaN        | NaN        |\n",
       "| D          | -0.5257499 | NaN        | NaN        | NaN        | NaN        |\n",
       "| E          |  0.4845501 | NaN        | NaN        | NaN        | NaN        |\n",
       "| F          | -2.5257499 | NaN        | NaN        | NaN        | NaN        |\n",
       "\n"
      ],
      "text/plain": [
       "  Node D1         D2  D3  D4  D5 \n",
       "1 A     2.4845501 NaN NaN NaN NaN\n",
       "2 B     4.0763101 NaN NaN NaN NaN\n",
       "3 C    -0.5257499 NaN NaN NaN NaN\n",
       "4 D    -0.5257499 NaN NaN NaN NaN\n",
       "5 E     0.4845501 NaN NaN NaN NaN\n",
       "6 F    -2.5257499 NaN NaN NaN NaN"
      ]
     },
     "metadata": {},
     "output_type": "display_data"
    }
   ],
   "source": [
    "d = distinctiveness(g, alpha = 2, measures = c(\"D1\"))\n",
    "d"
   ]
  },
  {
   "cell_type": "code",
   "execution_count": 96,
   "id": "d28298cb",
   "metadata": {},
   "outputs": [
    {
     "data": {
      "image/png": "[encoded data removed]",
      "text/plain": [
       "Plot with title \"\""
      ]
     },
     "metadata": {},
     "output_type": "display_data"
    }
   ],
   "source": [
    "g_dir <- make_empty_graph(directed = TRUE) %>%\n",
    "  add_vertices(1, name = \"A\") %>%\n",
    "  add_vertices(1, name = \"B\") %>%\n",
    "  add_vertices(1, name = \"C\") %>%\n",
    "  add_vertices(1, name = \"D\") %>%\n",
    "  add_vertices(1, name = \"E\") %>%\n",
    "  add_vertices(1, name = \"F\")\n",
    "g_dir <- g_dir + edge(1, 5, weight = 5) + edge(1, 2, weight = 6) +\n",
    "  edge(2, 1, weight = 2) + edge(2, 6, weight = 5) + edge(2, 3, weight = 2) +\n",
    "  edge(2, 4, weight = 2) + edge(3, 4, weight = 3) + edge(4, 3, weight = 5)\n",
    "plot(g_dir, edge.width = E(g_dir)$weight)"
   ]
  },
  {
   "cell_type": "code",
   "execution_count": 97,
   "id": "5f382d30",
   "metadata": {},
   "outputs": [
    {
     "data": {
      "text/html": [
       "<table>\n",
       "<thead><tr><th scope=col>Node</th><th scope=col>D1_IN</th><th scope=col>D2_IN</th><th scope=col>D3_IN</th><th scope=col>D4_IN</th><th scope=col>D5_IN</th><th scope=col>D1_OUT</th><th scope=col>D2_OUT</th><th scope=col>D3_OUT</th><th scope=col>D4_OUT</th><th scope=col>D5_OUT</th></tr></thead>\n",
       "<tbody>\n",
       "\t<tr><td>A          </td><td>0.4759098  </td><td>0.4277294  </td><td>0.2474528  </td><td>0.007207207</td><td>0.0125     </td><td>0.6833333  </td><td>0.7000000  </td><td>0.4290968  </td><td>0.36666667 </td><td>0.40       </td></tr>\n",
       "\t<tr><td>B          </td><td>0.5138647  </td><td>0.5138647  </td><td>0.2528009  </td><td>0.118032787</td><td>0.0500     </td><td>0.6259098  </td><td>0.7277294  </td><td>0.3754605  </td><td>0.26304156 </td><td>0.50       </td></tr>\n",
       "\t<tr><td>C          </td><td>0.5592431  </td><td>0.5277294  </td><td>0.3294695  </td><td>0.173873874</td><td>0.2125     </td><td>0.5069323  </td><td>0.5138647  </td><td>0.2745840  </td><td>0.06923077 </td><td>0.05       </td></tr>\n",
       "\t<tr><td>D          </td><td>0.5259098  </td><td>0.5277294  </td><td>0.2966628  </td><td>0.107207207</td><td>0.2125     </td><td>0.5115539  </td><td>0.5138647  </td><td>0.2918666  </td><td>0.14367816 </td><td>0.05       </td></tr>\n",
       "\t<tr><td>E          </td><td>0.5115539  </td><td>0.5138647  </td><td>0.2436028  </td><td>0.068306011</td><td>0.0500     </td><td>0.5000000  </td><td>0.5000000  </td><td>0.2486600  </td><td>0.00000000 </td><td>0.00       </td></tr>\n",
       "\t<tr><td>F          </td><td>0.4397745  </td><td>0.4277294  </td><td>0.2688254  </td><td>0.112612613</td><td>0.0125     </td><td>0.5000000  </td><td>0.5000000  </td><td>0.2486600  </td><td>0.00000000 </td><td>0.00       </td></tr>\n",
       "</tbody>\n",
       "</table>\n"
      ],
      "text/latex": [
       "\\begin{tabular}{r|lllllllllll}\n",
       " Node & D1\\_IN & D2\\_IN & D3\\_IN & D4\\_IN & D5\\_IN & D1\\_OUT & D2\\_OUT & D3\\_OUT & D4\\_OUT & D5\\_OUT\\\\\n",
       "\\hline\n",
       "\t A           & 0.4759098   & 0.4277294   & 0.2474528   & 0.007207207 & 0.0125      & 0.6833333   & 0.7000000   & 0.4290968   & 0.36666667  & 0.40       \\\\\n",
       "\t B           & 0.5138647   & 0.5138647   & 0.2528009   & 0.118032787 & 0.0500      & 0.6259098   & 0.7277294   & 0.3754605   & 0.26304156  & 0.50       \\\\\n",
       "\t C           & 0.5592431   & 0.5277294   & 0.3294695   & 0.173873874 & 0.2125      & 0.5069323   & 0.5138647   & 0.2745840   & 0.06923077  & 0.05       \\\\\n",
       "\t D           & 0.5259098   & 0.5277294   & 0.2966628   & 0.107207207 & 0.2125      & 0.5115539   & 0.5138647   & 0.2918666   & 0.14367816  & 0.05       \\\\\n",
       "\t E           & 0.5115539   & 0.5138647   & 0.2436028   & 0.068306011 & 0.0500      & 0.5000000   & 0.5000000   & 0.2486600   & 0.00000000  & 0.00       \\\\\n",
       "\t F           & 0.4397745   & 0.4277294   & 0.2688254   & 0.112612613 & 0.0125      & 0.5000000   & 0.5000000   & 0.2486600   & 0.00000000  & 0.00       \\\\\n",
       "\\end{tabular}\n"
      ],
      "text/markdown": [
       "\n",
       "| Node | D1_IN | D2_IN | D3_IN | D4_IN | D5_IN | D1_OUT | D2_OUT | D3_OUT | D4_OUT | D5_OUT |\n",
       "|---|---|---|---|---|---|---|---|---|---|---|\n",
       "| A           | 0.4759098   | 0.4277294   | 0.2474528   | 0.007207207 | 0.0125      | 0.6833333   | 0.7000000   | 0.4290968   | 0.36666667  | 0.40        |\n",
       "| B           | 0.5138647   | 0.5138647   | 0.2528009   | 0.118032787 | 0.0500      | 0.6259098   | 0.7277294   | 0.3754605   | 0.26304156  | 0.50        |\n",
       "| C           | 0.5592431   | 0.5277294   | 0.3294695   | 0.173873874 | 0.2125      | 0.5069323   | 0.5138647   | 0.2745840   | 0.06923077  | 0.05        |\n",
       "| D           | 0.5259098   | 0.5277294   | 0.2966628   | 0.107207207 | 0.2125      | 0.5115539   | 0.5138647   | 0.2918666   | 0.14367816  | 0.05        |\n",
       "| E           | 0.5115539   | 0.5138647   | 0.2436028   | 0.068306011 | 0.0500      | 0.5000000   | 0.5000000   | 0.2486600   | 0.00000000  | 0.00        |\n",
       "| F           | 0.4397745   | 0.4277294   | 0.2688254   | 0.112612613 | 0.0125      | 0.5000000   | 0.5000000   | 0.2486600   | 0.00000000  | 0.00        |\n",
       "\n"
      ],
      "text/plain": [
       "  Node D1_IN     D2_IN     D3_IN     D4_IN       D5_IN  D1_OUT    D2_OUT   \n",
       "1 A    0.4759098 0.4277294 0.2474528 0.007207207 0.0125 0.6833333 0.7000000\n",
       "2 B    0.5138647 0.5138647 0.2528009 0.118032787 0.0500 0.6259098 0.7277294\n",
       "3 C    0.5592431 0.5277294 0.3294695 0.173873874 0.2125 0.5069323 0.5138647\n",
       "4 D    0.5259098 0.5277294 0.2966628 0.107207207 0.2125 0.5115539 0.5138647\n",
       "5 E    0.5115539 0.5138647 0.2436028 0.068306011 0.0500 0.5000000 0.5000000\n",
       "6 F    0.4397745 0.4277294 0.2688254 0.112612613 0.0125 0.5000000 0.5000000\n",
       "  D3_OUT    D4_OUT     D5_OUT\n",
       "1 0.4290968 0.36666667 0.40  \n",
       "2 0.3754605 0.26304156 0.50  \n",
       "3 0.2745840 0.06923077 0.05  \n",
       "4 0.2918666 0.14367816 0.05  \n",
       "5 0.2486600 0.00000000 0.00  \n",
       "6 0.2486600 0.00000000 0.00  "
      ]
     },
     "metadata": {},
     "output_type": "display_data"
    }
   ],
   "source": [
    "dc = distinctiveness(g_dir, alpha = 2, normalize = TRUE)\n",
    "dc"
   ]
  },
  {
   "cell_type": "code",
   "execution_count": null,
   "id": "fa13acf7",
   "metadata": {},
   "outputs": [],
   "source": []
  }
 ],
 "metadata": {
  "kernelspec": {
   "display_name": "R",
   "language": "R",
   "name": "ir"
  },
  "language_info": {
   "codemirror_mode": "r",
   "file_extension": ".r",
   "mimetype": "text/x-r-source",
   "name": "R",
   "pygments_lexer": "r",
   "version": "3.6.1"
  }
 },
 "nbformat": 4,
 "nbformat_minor": 5
}
